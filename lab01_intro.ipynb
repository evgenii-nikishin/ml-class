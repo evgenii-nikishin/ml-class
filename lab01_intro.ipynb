{
 "cells": [
  {
   "cell_type": "markdown",
   "metadata": {},
   "source": [
    "# Лабораторная работа 1. Язык Python, основные библиотеки для анализа данных."
   ]
  },
  {
   "cell_type": "markdown",
   "metadata": {},
   "source": [
    "ФИО: Никишин Евгений Сергеевич\n",
    "\n",
    "Группа: 317\n",
    "\n",
    "### Примечание: так как задание по практикуму будем выполнять на python3, писал все на python3, вследствие чего некоторые элементы вашего кода пришлось изменить"
   ]
  },
  {
   "cell_type": "code",
   "execution_count": 1,
   "metadata": {
    "collapsed": true
   },
   "outputs": [],
   "source": [
    "import numpy as np\n",
    "import pandas as pd"
   ]
  },
  {
   "cell_type": "markdown",
   "metadata": {},
   "source": [
    "## Часть 1: Python"
   ]
  },
  {
   "cell_type": "markdown",
   "metadata": {},
   "source": [
    "#### 1. Напишите код, который сформирует список всех натуральных чисел, не превосходящих 100, которые делятся на 7 и не делятся на 5. Нельзя использовать циклы — выполните это задание с помощью list comprehension."
   ]
  },
  {
   "cell_type": "code",
   "execution_count": 1,
   "metadata": {
    "collapsed": false
   },
   "outputs": [
    {
     "data": {
      "text/plain": [
       "[7, 14, 21, 28, 42, 49, 56, 63, 77, 84, 91, 98]"
      ]
     },
     "execution_count": 1,
     "metadata": {},
     "output_type": "execute_result"
    }
   ],
   "source": [
    "[x for x in range(1, 101) if x % 7 == 0 and x % 5 != 0]"
   ]
  },
  {
   "cell_type": "markdown",
   "metadata": {},
   "source": [
    "#### 2. Напишите функцию `sort_tokens(s)`, которая принимает на вход строку, разделяет ее на токены по запятым, сортирует токены с помощью функции `sorted()` и снова соединяет их в одну строку через запятые. Например, для строки `u\"ночь,фонарь,улица\"` функция должна выдать `u\"ночь,улица,фонарь\"`. Придумайте несколько входных строк и протестируйте функцию на них."
   ]
  },
  {
   "cell_type": "code",
   "execution_count": 3,
   "metadata": {
    "collapsed": false
   },
   "outputs": [],
   "source": [
    "?str.split"
   ]
  },
  {
   "cell_type": "markdown",
   "metadata": {},
   "source": [
    "Обратите внимание, что склеить строки можно с помощью конструкции `'x'.join(...)`. Например:"
   ]
  },
  {
   "cell_type": "code",
   "execution_count": 2,
   "metadata": {
    "collapsed": false
   },
   "outputs": [
    {
     "data": {
      "text/plain": [
       "'i! am! very! excited! :-)'"
      ]
     },
     "execution_count": 2,
     "metadata": {},
     "output_type": "execute_result"
    }
   ],
   "source": [
    "'! '.join(['i', 'am', 'very', 'excited', ':-)'])"
   ]
  },
  {
   "cell_type": "code",
   "execution_count": 12,
   "metadata": {
    "collapsed": false
   },
   "outputs": [
    {
     "name": "stdout",
     "output_type": "stream",
     "text": [
      "111,abc,def\n",
      "аптека,ночь,улица,фонарь\n",
      " в котором много, как видно, как нетрудно видеть, обособлений, предложение,Это\n"
     ]
    }
   ],
   "source": [
    "def sort_tokens(s):\n",
    "    return ','.join(sorted(s.split(sep=',')))\n",
    "print(sort_tokens('abc,def,111'))\n",
    "print(sort_tokens('ночь,фонарь,улица,аптека'))\n",
    "print(sort_tokens('Это, как видно, предложение, в котором много, как нетрудно видеть, обособлений'))"
   ]
  },
  {
   "cell_type": "markdown",
   "metadata": {},
   "source": [
    "#### 3. Напишите функцию `remove_duplicates(a)`, которая принимает на вход список и возвращает его же, но без дубликатов и в отсортированном виде. Например, для списка `[u\"ночь\", u\"улица\", u\"фонарь\", u\"аптека\", u\"аптека\", u\"улица\", u\"фонарь\"]` результат должен быть `[u\"аптека\", u\"ночь\", u\"улица\", u\"фонарь\", ]`."
   ]
  },
  {
   "cell_type": "markdown",
   "metadata": {},
   "source": [
    "Подсказка: обратите внимание на структуру `set`!"
   ]
  },
  {
   "cell_type": "code",
   "execution_count": 14,
   "metadata": {
    "collapsed": false
   },
   "outputs": [
    {
     "name": "stdout",
     "output_type": "stream",
     "text": [
      "['аптека', 'ночь', 'улица', 'фонарь']\n"
     ]
    }
   ],
   "source": [
    "def remove_duplicates(a):\n",
    "    return sorted(list(set(a)))\n",
    "print(remove_duplicates([u\"ночь\", u\"улица\", u\"фонарь\", u\"аптека\", u\"аптека\", u\"улица\", u\"фонарь\"] ))"
   ]
  },
  {
   "cell_type": "markdown",
   "metadata": {},
   "source": [
    "#### 4. Напишите функцию `word_counts(texts)`, которая принимает на вход список строк, и печатает пары (слово, число вхождений). Считайте, что слова в текстах могут быть разделены только пробелами. Например, для входа `[u'ночь улица фонарь аптека', u'аптека улица фонарь']` должно быть напечатано\n",
    ">аптека 2\n",
    "\n",
    ">улица 2\n",
    "\n",
    ">фонарь 2\n",
    "\n",
    ">ночь 1"
   ]
  },
  {
   "cell_type": "markdown",
   "metadata": {},
   "source": [
    "Подсказки:\n",
    "\n",
    "Чтобы разбить каждый из текстов на слова, воспользуйтесь функцией `map`, которая применяет заданную функцию к каждому элементу списка. Например, если бы нужно было каждый из текстов привести к нижнему регистру, то команда выглядела бы так:"
   ]
  },
  {
   "cell_type": "code",
   "execution_count": 24,
   "metadata": {
    "collapsed": false
   },
   "outputs": [],
   "source": [
    "ll = [x for x in map(lambda x: x.split(), [u'ночь улица фонарь аптека', u'аптека улица фонарь'])]"
   ]
  },
  {
   "cell_type": "markdown",
   "metadata": {},
   "source": [
    "После первого шага вы получите список, состоящий из списков слов. Чтобы объединить их в один список слов, воспользуйтесь функцией `reduce`. Например, просуммировать числа из списка с ее помощью можно так:\n",
    "\n"
   ]
  },
  {
   "cell_type": "code",
   "execution_count": 35,
   "metadata": {
    "collapsed": false
   },
   "outputs": [
    {
     "data": {
      "text/plain": [
       "['ночь', 'улица', 'фонарь', 'аптека', 'аптека', 'улица', 'фонарь']"
      ]
     },
     "execution_count": 35,
     "metadata": {},
     "output_type": "execute_result"
    }
   ],
   "source": [
    "from functools import reduce\n",
    "reduce(lambda x, y: x + y, ll)"
   ]
  },
  {
   "cell_type": "markdown",
   "metadata": {},
   "source": [
    "Для подсчета количества вхождений слов воспользуйтесь структурой `defaultdict` из модуля `collections`. В отличие от обычного `dict`, она не генерирует ошибку при обращении к несуществущему ключу, а создает новую запись, инициализируемую нулевым значением. Например:"
   ]
  },
  {
   "cell_type": "code",
   "execution_count": 37,
   "metadata": {
    "collapsed": false
   },
   "outputs": [
    {
     "name": "stdout",
     "output_type": "stream",
     "text": [
      "defaultdict(<class 'int'>, {})\n",
      "defaultdict(<class 'int'>, {'abc': 1})\n",
      "defaultdict(<class 'int'>, {'xxx': 0, 'abc': 1})\n"
     ]
    }
   ],
   "source": [
    "from collections import defaultdict\n",
    "d = defaultdict(int)\n",
    "print (d)\n",
    "d['abc'] += 1\n",
    "print (d)\n",
    "d['xxx']\n",
    "print (d)"
   ]
  },
  {
   "cell_type": "code",
   "execution_count": 44,
   "metadata": {
    "collapsed": false
   },
   "outputs": [
    {
     "name": "stdout",
     "output_type": "stream",
     "text": [
      "аптека 2\n",
      "ночь 1\n",
      "улица 2\n",
      "фонарь 5\n"
     ]
    }
   ],
   "source": [
    "from functools import reduce\n",
    "from collections import defaultdict\n",
    "\n",
    "def word_counts(texts):\n",
    "    l = reduce(lambda x, y: x + y, [x for x in map(lambda x: x.split(), texts)])\n",
    "    d = defaultdict(int)\n",
    "    for word in l:\n",
    "        d[word] += 1\n",
    "    for key in d.keys():\n",
    "        print(key, d[key])\n",
    "\n",
    "word_counts([u'ночь улица фонарь аптека', u'аптека улица фонарь фонарь фонарь', \"фонарь\"])"
   ]
  },
  {
   "cell_type": "markdown",
   "metadata": {},
   "source": [
    "#### 5. (бонусное задание) Скачайте английский перевод \"Преступления и наказания\". Найдите 20 самых популярных слов и 20 слов, которые встречаются только один раз."
   ]
  },
  {
   "cell_type": "markdown",
   "metadata": {},
   "source": [
    "Приведите текст к нижнему регистру. Удалите из него все специальные символы и цифры. Разделите текст на слова, считая разделителями все, кроме букв. Обратите внимание на функцию `split` из модуля `re`.\n",
    "\n",
    "Не забудьте удалить пустые слова:\n",
    "```\n",
    "words = filter(lambda x: len(x) > 0, words)\n",
    "```"
   ]
  },
  {
   "cell_type": "code",
   "execution_count": 61,
   "metadata": {
    "collapsed": false,
    "scrolled": true
   },
   "outputs": [],
   "source": [
    "#####Очень долго качает, поэтому я скачал сам и положил в одну папку с ноутбуком\n",
    "\n",
    "\n",
    "#from urllib.request import urlopen\n",
    "#url = \"http://www.gutenberg.org/files/2554/2554.txt\"\n",
    "#response = urlopen(url)\n",
    "#raw_text = response.read().decode('utf8')\n",
    "#print(type(raw_text))\n",
    "\n",
    "raw_text = open(\"./2554.txt\", \"r\").read()#.decode('utf8')"
   ]
  },
  {
   "cell_type": "code",
   "execution_count": 70,
   "metadata": {
    "collapsed": false,
    "scrolled": true
   },
   "outputs": [
    {
     "data": {
      "text/plain": [
       "\"The Project Gutenberg EBook of Crime and Punishment, by Fyodor Dostoevsky\\n\\nThis eBook is for the use of anyone anywhere at no cost and with\\nalmost no restrictions whatsoever.  You may copy it, give it away or\\nre-use it under the terms of the Project Gutenberg License included\\nwith this eBook or online at www.gutenberg.org\\n\\n\\nTitle: Crime and Punishment\\n\\nAuthor: Fyodor Dostoevsky\\n\\nRelease Date: March 28, 2006 [EBook #2554]\\n[Last updated: November 15, 2011]\\n\\nLanguage: English\\n\\nCharacter set encoding: ASCII\\n\\n*** START OF THIS PROJECT GUTENBERG EBOOK CRIME AND PUNISHMENT ***\\n\\n\\n\\n\\nProduced by John Bickers; and Dagny\\n\\n\\n\\n\\n\\nCRIME AND PUNISHMENT\\n\\nBy Fyodor Dostoevsky\\n\\n\\n\\nTranslated By Constance Garnett\\n\\n\\n\\n\\nTRANSLATOR'S PREFACE\\n\\nA few words about Dostoevsky himself may help the English reader to\\nunderstand his work.\\n\\nDostoevsky was the son of a doctor. His parents were very hard-working\\nand deeply religious people, but so poor that they lived with their five\\nchildren in only two rooms. The father and mother spent their evenings\\nin reading aloud to their children, generally from books of a serious\""
      ]
     },
     "execution_count": 70,
     "metadata": {},
     "output_type": "execute_result"
    }
   ],
   "source": [
    "raw_text[:1100]"
   ]
  },
  {
   "cell_type": "code",
   "execution_count": 71,
   "metadata": {
    "collapsed": false,
    "scrolled": true
   },
   "outputs": [
    {
     "name": "stdout",
     "output_type": "stream",
     "text": [
      "Список 20 самых популярных слов: ['the', 'and', 'to', 'he', 'a', 'i', 'you', 'of', 'it', 'that', 'in', 'was', 'his', 'at', 'her', 'but', 'not', 's', 'with', 'she'] \n",
      "\n",
      "Список 20 слов, встречающихся 1 раз в тексте: ['lawgiver', 'uncanny', 'butter', 'streaked', 'raff', 'tenderness', 'emergency', 'bolt', 'silversmith', 'shabbiness', 'uncleanness', 'rays', 'barefooted', 'remarking', 'assert', 'staff', 'harmoniously', 'viazemsky', 'provocative', 'compels']\n"
     ]
    }
   ],
   "source": [
    "#raw_text = filter(lambda x: len(x) > 0, raw_text)\n",
    "\n",
    "from functools import reduce\n",
    "from collections import defaultdict\n",
    "import re\n",
    "\n",
    "def word_counts(text):\n",
    "    text = text.lower()\n",
    "    text = re.split('\\W+', text)\n",
    "    text = list(filter(lambda x: len(x) > 0, text))\n",
    "    d = defaultdict(int)\n",
    "    for word in text:\n",
    "        d[word] += 1\n",
    "    lpop = []\n",
    "    lone = []\n",
    "    items = list(d.items())\n",
    "    for i in range(20):\n",
    "        lpop.append((max(items, key=lambda x: x[1]))[0])\n",
    "        items.remove(max(items, key=lambda x: x[1]))\n",
    "        lone.append((min(items, key=lambda x: x[1]))[0])\n",
    "        items.remove(min(items, key=lambda x: x[1]))\n",
    "    print (\"Список 20 самых популярных слов:\", lpop, '\\n')\n",
    "    print (\"Список 20 слов, встречающихся 1 раз в тексте:\", lone)\n",
    "        \n",
    "word_counts(raw_text)"
   ]
  },
  {
   "cell_type": "markdown",
   "metadata": {},
   "source": [
    "## Часть 2: NumPy и SciPy"
   ]
  },
  {
   "cell_type": "markdown",
   "metadata": {},
   "source": [
    "#### 1. Повторите 1000 раз следующий эксперимент: сгенерируйте две матрицы размера $10 \\times 10$ из стандартного нормального распределения, перемножьте их (как матрицы) и найдите максимальный элемент. Какое среднее значение по экспериментам у максимальных элементов? 95-процентная квантиль?"
   ]
  },
  {
   "cell_type": "markdown",
   "metadata": {},
   "source": [
    "Для вычисления квантили воспользуйтесь функцией `np.percentile`"
   ]
  },
  {
   "cell_type": "code",
   "execution_count": 69,
   "metadata": {
    "collapsed": false
   },
   "outputs": [
    {
     "name": "stdout",
     "output_type": "stream",
     "text": [
      "8.4440872453\n",
      "12.1529962234\n"
     ]
    }
   ],
   "source": [
    "m = np.zeros(1000)\n",
    "for i in range(1000):\n",
    "    A, B = np.random.normal(size = (10, 10)), np.random.normal(size = (10, 10))\n",
    "    m[i] = np.dot(A, B).max()\n",
    "print(m.sum()/1000)\n",
    "print(np.percentile(m, 95))"
   ]
  },
  {
   "cell_type": "markdown",
   "metadata": {},
   "source": [
    "#### 2. Сгенерируйте 1000 чисел из распределения Пуассона с параметром $\\lambda = 5$. Сформируйте массив, в котором в i-м элементе будет записано количество сгенерированных чисел, равных i."
   ]
  },
  {
   "cell_type": "markdown",
   "metadata": {},
   "source": [
    "Обратите внимание на функцию `np.bincount`"
   ]
  },
  {
   "cell_type": "code",
   "execution_count": 128,
   "metadata": {
    "collapsed": false
   },
   "outputs": [
    {
     "data": {
      "text/plain": [
       "array([0, 1, 1, 2, 0, 4, 1, 0, 0, 1])"
      ]
     },
     "execution_count": 128,
     "metadata": {},
     "output_type": "execute_result"
    }
   ],
   "source": [
    "a = np.random.poisson(lam=5, size=(10,))\n",
    "b = np.bincount(a)\n",
    "b"
   ]
  },
  {
   "cell_type": "markdown",
   "metadata": {},
   "source": [
    "#### 3. Реализуйте функцию, которая принимает на вход numpy-массив целых чисел `a`, и генерирует массив, в котором число `i` встречается `a[i]` раз. Протестируйте на результате из прошлого задания."
   ]
  },
  {
   "cell_type": "markdown",
   "metadata": {},
   "source": [
    "Обратите внимание на функцию `np.repeat`"
   ]
  },
  {
   "cell_type": "code",
   "execution_count": 129,
   "metadata": {
    "collapsed": false
   },
   "outputs": [
    {
     "data": {
      "text/plain": [
       "array([0, 0, 1, 1, 1, 2, 2, 2, 3, 3, 3, 3, 3, 4, 4, 4, 4, 4, 4, 5, 5, 5, 5,\n",
       "       5, 5, 5, 5, 5, 6, 6, 6, 6, 6, 7, 7, 7, 7, 7, 8, 9, 9, 9, 9, 9])"
      ]
     },
     "execution_count": 129,
     "metadata": {},
     "output_type": "execute_result"
    }
   ],
   "source": [
    "def f(a):\n",
    "    return np.repeat(range(len(a)), a)\n",
    "f(a)"
   ]
  },
  {
   "cell_type": "markdown",
   "metadata": {},
   "source": [
    "#### 4. Напишите функцию `scale(X)`, которая принимает на вход матрицу и масштабирует каждый ее столбец (вычитает среднее и делит на стандартное отклонение). Убедитесь, что в функции не будет происходить деления на ноль. Протестируйте на каких-нибудь данных."
   ]
  },
  {
   "cell_type": "code",
   "execution_count": 136,
   "metadata": {
    "collapsed": false
   },
   "outputs": [
    {
     "name": "stdout",
     "output_type": "stream",
     "text": [
      "[[ 1.  0.  0.  0.]\n",
      " [ 0.  1.  0.  0.]\n",
      " [ 0.  0.  1.  0.]\n",
      " [ 0.  0.  0.  1.]\n",
      " [ 1.  1.  1.  1.]]\n",
      "[[ 1.22474487 -0.81649658 -0.81649658 -0.81649658]\n",
      " [-0.81649658  1.22474487 -0.81649658 -0.81649658]\n",
      " [-0.81649658 -0.81649658  1.22474487 -0.81649658]\n",
      " [-0.81649658 -0.81649658 -0.81649658  1.22474487]\n",
      " [ 1.22474487  1.22474487  1.22474487  1.22474487]]\n",
      "\n",
      "[[ 0.  0.  0.  0.]\n",
      " [ 0.  0.  0.  0.]\n",
      " [ 0.  0.  0.  0.]]\n"
     ]
    }
   ],
   "source": [
    "def scale(X):\n",
    "    s = (np.std(X, axis=0) == np.zeros(X.shape[1])) + np.std(X, axis=0)\n",
    "    return (X - np.mean(X, axis=0)) / s\n",
    "\n",
    "#Вроде работает\n",
    "         \n",
    "A = np.vstack((np.eye(4),[1, 1, 1, 1]))\n",
    "print(A)\n",
    "print(scale(A))\n",
    "print()\n",
    "print(scale(np.ones((3, 4))))"
   ]
  },
  {
   "cell_type": "markdown",
   "metadata": {},
   "source": [
    "#### 5. Сгенерируйте матрицу с элементами из нормального распределения $\\mathcal{N}(10, 1)$. Найдите ее:\n",
    "- определитель\n",
    "- след\n",
    "- наименьший и наибольший элементы\n",
    "- спектральную норму\n",
    "- норму Фробениуса\n",
    "- собственные числа\n",
    "- обратную матрицу"
   ]
  },
  {
   "cell_type": "code",
   "execution_count": 160,
   "metadata": {
    "collapsed": false
   },
   "outputs": [
    {
     "name": "stdout",
     "output_type": "stream",
     "text": [
      "[[  9.77782786   9.38998953  10.89344103   9.65646889]\n",
      " [  9.00602992   8.973025     9.47409509  10.01247318]\n",
      " [ 10.54662067  11.55145253   9.59912939   9.5385298 ]\n",
      " [ 10.13698392   8.97410358   9.48667306  10.37151533]]\n",
      "det = -54.334893183\n",
      "trace = 38.7214975815\n",
      "max = 11.5514525311\n",
      "min = 8.9730249989\n",
      "spectral norm = 39.3711657394\n",
      "Frobenius norm = 39.445867877\n",
      "eigenvalues = [ 39.35356488+0.j          -1.53598058+0.j           0.45195664+0.83344484j\n",
      "   0.45195664-0.83344484j]\n",
      "inverted\n",
      "[[ 0.14716031 -1.1246997   0.05941076  0.89411094]\n",
      " [-0.20396656  0.42470079  0.3273215  -0.52112678]\n",
      " [ 0.56338435 -0.02780807 -0.17411922 -0.33756249]\n",
      " [-0.48266696  0.75722397 -0.18202267 -0.01779852]]\n"
     ]
    }
   ],
   "source": [
    "B = np.random.normal(loc=10, size = (4, 4))\n",
    "print (B)\n",
    "print (\"det =\", np.linalg.det(B))\n",
    "print (\"trace =\", np.trace(B))\n",
    "print (\"max =\", np.max(B))\n",
    "print (\"min =\", np.min(B))\n",
    "print (\"spectral norm =\", np.linalg.norm(B, ord=2))\n",
    "print (\"Frobenius norm =\", np.linalg.norm(B, ord='fro'))\n",
    "print (\"eigenvalues =\", np.linalg.eigvals(B))\n",
    "print (\"inverted\")\n",
    "print (np.linalg.inv(B))"
   ]
  },
  {
   "cell_type": "markdown",
   "metadata": {},
   "source": [
    "## Часть 3: Pandas"
   ]
  },
  {
   "cell_type": "markdown",
   "metadata": {},
   "source": [
    "#### Ответьте на вопросы о данных по авиарейсам в США за январь-апрель 2008 года.\n",
    "\n",
    "Данные: http://stat-computing.org/dataexpo/2009/2008.csv.bz2\n",
    "(обратите внимание, что распаковывать этот файл не обязательно — функция `pandas.read_csv` умеет читать из архивов автоматически)\n",
    "\n",
    "Описание: http://stat-computing.org/dataexpo/2009/the-data.html\n",
    "\n",
    "1. Какая из причин отмены рейса (`CancellationCode`) была самой частой? (расшифровки кодов можно найти в описании данных)\n",
    "2. Найдите среднее, минимальное и максимальное расстояние, пройденное самолетом.\n",
    "3. Не выглядит ли подозрительным минимальное пройденное расстояние? В какие дни и на каких рейсах оно было? Какое расстояние было пройдено этими же рейсами в другие дни?\n",
    "4. Из какого аэропорта было произведено больше всего вылетов? В каком городе он находится?\n",
    "5. Найдите для каждого аэропорта среднее время полета (`AirTime`) по всем вылетевшим из него рейсам. Какой аэропорт имеет наибольшее значение этого показателя?\n",
    "6. Найдите аэропорт, у которого наибольшая доля задержанных (`DepDelay > 0`) рейсов. Исключите при этом из рассмотрения аэропорты, из которых было отправлено меньше 1000 рейсов (используйте функцию `filter` после `groupby`)."
   ]
  },
  {
   "cell_type": "code",
   "execution_count": 79,
   "metadata": {
    "collapsed": false
   },
   "outputs": [],
   "source": [
    "#опять очень долго, скачал вручную и положил в папку с ноутбуком\n",
    "\n",
    "data = pd.read_csv('./2008.csv')"
   ]
  },
  {
   "cell_type": "code",
   "execution_count": 99,
   "metadata": {
    "collapsed": false
   },
   "outputs": [
    {
     "data": {
      "text/plain": [
       "B    54904\n",
       "A    54330\n",
       "C    28188\n",
       "D       12\n",
       "dtype: int64"
      ]
     },
     "execution_count": 99,
     "metadata": {},
     "output_type": "execute_result"
    }
   ],
   "source": [
    "data.CancellationCode[data.CancellationCode.notnull()].value_counts()"
   ]
  },
  {
   "cell_type": "code",
   "execution_count": null,
   "metadata": {
    "collapsed": true
   },
   "outputs": [],
   "source": [
    "df = pd.DataFrame(data)\n",
    "?df.groupby()"
   ]
  },
  {
   "cell_type": "code",
   "execution_count": null,
   "metadata": {
    "collapsed": true
   },
   "outputs": [],
   "source": []
  }
 ],
 "metadata": {
  "kernelspec": {
   "display_name": "Python 3",
   "language": "python",
   "name": "python3"
  },
  "language_info": {
   "codemirror_mode": {
    "name": "ipython",
    "version": 3
   },
   "file_extension": ".py",
   "mimetype": "text/x-python",
   "name": "python",
   "nbconvert_exporter": "python",
   "pygments_lexer": "ipython3",
   "version": "3.4.3"
  }
 },
 "nbformat": 4,
 "nbformat_minor": 0
}
