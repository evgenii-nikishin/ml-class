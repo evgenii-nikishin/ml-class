{
 "cells": [
  {
   "cell_type": "markdown",
   "metadata": {},
   "source": [
    "# Лабораторная работа 1. Язык Python, основные библиотеки для анализа данных."
   ]
  },
  {
   "cell_type": "markdown",
   "metadata": {},
   "source": [
    "ФИО: Никишин Евгений Сергеевич\n",
    "\n",
    "Группа: 317\n",
    "\n",
    "### Примечание: так как задание по практикуму будем выполнять на python3, писал все на python3, вследствие чего некоторые элементы вашего кода пришлось изменить"
   ]
  },
  {
   "cell_type": "code",
   "execution_count": 31,
   "metadata": {
    "collapsed": true
   },
   "outputs": [],
   "source": [
    "import numpy as np\n",
    "import pandas as pd"
   ]
  },
  {
   "cell_type": "markdown",
   "metadata": {},
   "source": [
    "## Часть 1: Python"
   ]
  },
  {
   "cell_type": "markdown",
   "metadata": {},
   "source": [
    "#### 1. Напишите код, который сформирует список всех натуральных чисел, не превосходящих 100, которые делятся на 7 и не делятся на 5. Нельзя использовать циклы — выполните это задание с помощью list comprehension."
   ]
  },
  {
   "cell_type": "code",
   "execution_count": 1,
   "metadata": {
    "collapsed": false
   },
   "outputs": [
    {
     "data": {
      "text/plain": [
       "[7, 14, 21, 28, 42, 49, 56, 63, 77, 84, 91, 98]"
      ]
     },
     "execution_count": 1,
     "metadata": {},
     "output_type": "execute_result"
    }
   ],
   "source": [
    "[x for x in range(1, 101) if x % 7 == 0 and x % 5 != 0]"
   ]
  },
  {
   "cell_type": "markdown",
   "metadata": {},
   "source": [
    "#### 2. Напишите функцию `sort_tokens(s)`, которая принимает на вход строку, разделяет ее на токены по запятым, сортирует токены с помощью функции `sorted()` и снова соединяет их в одну строку через запятые. Например, для строки `u\"ночь,фонарь,улица\"` функция должна выдать `u\"ночь,улица,фонарь\"`. Придумайте несколько входных строк и протестируйте функцию на них."
   ]
  },
  {
   "cell_type": "code",
   "execution_count": 3,
   "metadata": {
    "collapsed": false
   },
   "outputs": [],
   "source": [
    "?str.split"
   ]
  },
  {
   "cell_type": "markdown",
   "metadata": {},
   "source": [
    "Обратите внимание, что склеить строки можно с помощью конструкции `'x'.join(...)`. Например:"
   ]
  },
  {
   "cell_type": "code",
   "execution_count": 2,
   "metadata": {
    "collapsed": false
   },
   "outputs": [
    {
     "data": {
      "text/plain": [
       "'i! am! very! excited! :-)'"
      ]
     },
     "execution_count": 2,
     "metadata": {},
     "output_type": "execute_result"
    }
   ],
   "source": [
    "'! '.join(['i', 'am', 'very', 'excited', ':-)'])"
   ]
  },
  {
   "cell_type": "code",
   "execution_count": 12,
   "metadata": {
    "collapsed": false
   },
   "outputs": [
    {
     "name": "stdout",
     "output_type": "stream",
     "text": [
      "111,abc,def\n",
      "аптека,ночь,улица,фонарь\n",
      " в котором много, как видно, как нетрудно видеть, обособлений, предложение,Это\n"
     ]
    }
   ],
   "source": [
    "def sort_tokens(s):\n",
    "    return ','.join(sorted(s.split(sep=',')))\n",
    "print(sort_tokens('abc,def,111'))\n",
    "print(sort_tokens('ночь,фонарь,улица,аптека'))\n",
    "print(sort_tokens('Это, как видно, предложение, в котором много, как нетрудно видеть, обособлений'))"
   ]
  },
  {
   "cell_type": "markdown",
   "metadata": {},
   "source": [
    "#### 3. Напишите функцию `remove_duplicates(a)`, которая принимает на вход список и возвращает его же, но без дубликатов и в отсортированном виде. Например, для списка `[u\"ночь\", u\"улица\", u\"фонарь\", u\"аптека\", u\"аптека\", u\"улица\", u\"фонарь\"]` результат должен быть `[u\"аптека\", u\"ночь\", u\"улица\", u\"фонарь\", ]`."
   ]
  },
  {
   "cell_type": "markdown",
   "metadata": {},
   "source": [
    "Подсказка: обратите внимание на структуру `set`!"
   ]
  },
  {
   "cell_type": "code",
   "execution_count": 14,
   "metadata": {
    "collapsed": false
   },
   "outputs": [
    {
     "name": "stdout",
     "output_type": "stream",
     "text": [
      "['аптека', 'ночь', 'улица', 'фонарь']\n"
     ]
    }
   ],
   "source": [
    "def remove_duplicates(a):\n",
    "    return sorted(list(set(a)))\n",
    "print(remove_duplicates([u\"ночь\", u\"улица\", u\"фонарь\", u\"аптека\", u\"аптека\", u\"улица\", u\"фонарь\"] ))"
   ]
  },
  {
   "cell_type": "markdown",
   "metadata": {},
   "source": [
    "#### 4. Напишите функцию `word_counts(texts)`, которая принимает на вход список строк, и печатает пары (слово, число вхождений). Считайте, что слова в текстах могут быть разделены только пробелами. Например, для входа `[u'ночь улица фонарь аптека', u'аптека улица фонарь']` должно быть напечатано\n",
    ">аптека 2\n",
    "\n",
    ">улица 2\n",
    "\n",
    ">фонарь 2\n",
    "\n",
    ">ночь 1"
   ]
  },
  {
   "cell_type": "markdown",
   "metadata": {},
   "source": [
    "Подсказки:\n",
    "\n",
    "Чтобы разбить каждый из текстов на слова, воспользуйтесь функцией `map`, которая применяет заданную функцию к каждому элементу списка. Например, если бы нужно было каждый из текстов привести к нижнему регистру, то команда выглядела бы так:"
   ]
  },
  {
   "cell_type": "code",
   "execution_count": 24,
   "metadata": {
    "collapsed": false
   },
   "outputs": [],
   "source": [
    "ll = [x for x in map(lambda x: x.split(), [u'ночь улица фонарь аптека', u'аптека улица фонарь'])]"
   ]
  },
  {
   "cell_type": "markdown",
   "metadata": {},
   "source": [
    "После первого шага вы получите список, состоящий из списков слов. Чтобы объединить их в один список слов, воспользуйтесь функцией `reduce`. Например, просуммировать числа из списка с ее помощью можно так:\n",
    "\n"
   ]
  },
  {
   "cell_type": "code",
   "execution_count": 35,
   "metadata": {
    "collapsed": false
   },
   "outputs": [
    {
     "data": {
      "text/plain": [
       "['ночь', 'улица', 'фонарь', 'аптека', 'аптека', 'улица', 'фонарь']"
      ]
     },
     "execution_count": 35,
     "metadata": {},
     "output_type": "execute_result"
    }
   ],
   "source": [
    "from functools import reduce\n",
    "reduce(lambda x, y: x + y, ll)"
   ]
  },
  {
   "cell_type": "markdown",
   "metadata": {},
   "source": [
    "Для подсчета количества вхождений слов воспользуйтесь структурой `defaultdict` из модуля `collections`. В отличие от обычного `dict`, она не генерирует ошибку при обращении к несуществущему ключу, а создает новую запись, инициализируемую нулевым значением. Например:"
   ]
  },
  {
   "cell_type": "code",
   "execution_count": 37,
   "metadata": {
    "collapsed": false
   },
   "outputs": [
    {
     "name": "stdout",
     "output_type": "stream",
     "text": [
      "defaultdict(<class 'int'>, {})\n",
      "defaultdict(<class 'int'>, {'abc': 1})\n",
      "defaultdict(<class 'int'>, {'xxx': 0, 'abc': 1})\n"
     ]
    }
   ],
   "source": [
    "from collections import defaultdict\n",
    "d = defaultdict(int)\n",
    "print (d)\n",
    "d['abc'] += 1\n",
    "print (d)\n",
    "d['xxx']\n",
    "print (d)"
   ]
  },
  {
   "cell_type": "code",
   "execution_count": 44,
   "metadata": {
    "collapsed": false
   },
   "outputs": [
    {
     "name": "stdout",
     "output_type": "stream",
     "text": [
      "аптека 2\n",
      "ночь 1\n",
      "улица 2\n",
      "фонарь 5\n"
     ]
    }
   ],
   "source": [
    "from functools import reduce\n",
    "from collections import defaultdict\n",
    "\n",
    "def word_counts(texts):\n",
    "    l = reduce(lambda x, y: x + y, [x for x in map(lambda x: x.split(), texts)])\n",
    "    d = defaultdict(int)\n",
    "    for word in l:\n",
    "        d[word] += 1\n",
    "    for key in d.keys():\n",
    "        print(key, d[key])\n",
    "\n",
    "word_counts([u'ночь улица фонарь аптека', u'аптека улица фонарь фонарь фонарь', \"фонарь\"])"
   ]
  },
  {
   "cell_type": "markdown",
   "metadata": {},
   "source": [
    "#### 5. (бонусное задание) Скачайте английский перевод \"Преступления и наказания\". Найдите 20 самых популярных слов и 20 слов, которые встречаются только один раз."
   ]
  },
  {
   "cell_type": "markdown",
   "metadata": {},
   "source": [
    "Приведите текст к нижнему регистру. Удалите из него все специальные символы и цифры. Разделите текст на слова, считая разделителями все, кроме букв. Обратите внимание на функцию `split` из модуля `re`.\n",
    "\n",
    "Не забудьте удалить пустые слова:\n",
    "```\n",
    "words = filter(lambda x: len(x) > 0, words)\n",
    "```"
   ]
  },
  {
   "cell_type": "code",
   "execution_count": 61,
   "metadata": {
    "collapsed": false,
    "scrolled": true
   },
   "outputs": [],
   "source": [
    "#####Очень долго качает, поэтому я скачал сам и положил в одну папку с ноутбуком\n",
    "\n",
    "\n",
    "#from urllib.request import urlopen\n",
    "#url = \"http://www.gutenberg.org/files/2554/2554.txt\"\n",
    "#response = urlopen(url)\n",
    "#raw_text = response.read().decode('utf8')\n",
    "#print(type(raw_text))\n",
    "\n",
    "raw_text = open(\"./2554.txt\", \"r\").read()#.decode('utf8')"
   ]
  },
  {
   "cell_type": "code",
   "execution_count": 70,
   "metadata": {
    "collapsed": false,
    "scrolled": true
   },
   "outputs": [
    {
     "data": {
      "text/plain": [
       "\"The Project Gutenberg EBook of Crime and Punishment, by Fyodor Dostoevsky\\n\\nThis eBook is for the use of anyone anywhere at no cost and with\\nalmost no restrictions whatsoever.  You may copy it, give it away or\\nre-use it under the terms of the Project Gutenberg License included\\nwith this eBook or online at www.gutenberg.org\\n\\n\\nTitle: Crime and Punishment\\n\\nAuthor: Fyodor Dostoevsky\\n\\nRelease Date: March 28, 2006 [EBook #2554]\\n[Last updated: November 15, 2011]\\n\\nLanguage: English\\n\\nCharacter set encoding: ASCII\\n\\n*** START OF THIS PROJECT GUTENBERG EBOOK CRIME AND PUNISHMENT ***\\n\\n\\n\\n\\nProduced by John Bickers; and Dagny\\n\\n\\n\\n\\n\\nCRIME AND PUNISHMENT\\n\\nBy Fyodor Dostoevsky\\n\\n\\n\\nTranslated By Constance Garnett\\n\\n\\n\\n\\nTRANSLATOR'S PREFACE\\n\\nA few words about Dostoevsky himself may help the English reader to\\nunderstand his work.\\n\\nDostoevsky was the son of a doctor. His parents were very hard-working\\nand deeply religious people, but so poor that they lived with their five\\nchildren in only two rooms. The father and mother spent their evenings\\nin reading aloud to their children, generally from books of a serious\""
      ]
     },
     "execution_count": 70,
     "metadata": {},
     "output_type": "execute_result"
    }
   ],
   "source": [
    "raw_text[:1100]"
   ]
  },
  {
   "cell_type": "code",
   "execution_count": 71,
   "metadata": {
    "collapsed": false,
    "scrolled": true
   },
   "outputs": [
    {
     "name": "stdout",
     "output_type": "stream",
     "text": [
      "Список 20 самых популярных слов: ['the', 'and', 'to', 'he', 'a', 'i', 'you', 'of', 'it', 'that', 'in', 'was', 'his', 'at', 'her', 'but', 'not', 's', 'with', 'she'] \n",
      "\n",
      "Список 20 слов, встречающихся 1 раз в тексте: ['lawgiver', 'uncanny', 'butter', 'streaked', 'raff', 'tenderness', 'emergency', 'bolt', 'silversmith', 'shabbiness', 'uncleanness', 'rays', 'barefooted', 'remarking', 'assert', 'staff', 'harmoniously', 'viazemsky', 'provocative', 'compels']\n"
     ]
    }
   ],
   "source": [
    "#raw_text = filter(lambda x: len(x) > 0, raw_text)\n",
    "\n",
    "from functools import reduce\n",
    "from collections import defaultdict\n",
    "import re\n",
    "\n",
    "def word_counts(text):\n",
    "    text = text.lower()\n",
    "    text = re.split('\\W+', text)\n",
    "    text = list(filter(lambda x: len(x) > 0, text))\n",
    "    d = defaultdict(int)\n",
    "    for word in text:\n",
    "        d[word] += 1\n",
    "    lpop = []\n",
    "    lone = []\n",
    "    items = list(d.items())\n",
    "    for i in range(20):\n",
    "        lpop.append((max(items, key=lambda x: x[1]))[0])\n",
    "        items.remove(max(items, key=lambda x: x[1]))\n",
    "        lone.append((min(items, key=lambda x: x[1]))[0])\n",
    "        items.remove(min(items, key=lambda x: x[1]))\n",
    "    print (\"Список 20 самых популярных слов:\", lpop, '\\n')\n",
    "    print (\"Список 20 слов, встречающихся 1 раз в тексте:\", lone)\n",
    "        \n",
    "word_counts(raw_text)"
   ]
  },
  {
   "cell_type": "markdown",
   "metadata": {},
   "source": [
    "## Часть 2: NumPy и SciPy"
   ]
  },
  {
   "cell_type": "markdown",
   "metadata": {},
   "source": [
    "#### 1. Повторите 1000 раз следующий эксперимент: сгенерируйте две матрицы размера $10 \\times 10$ из стандартного нормального распределения, перемножьте их (как матрицы) и найдите максимальный элемент. Какое среднее значение по экспериментам у максимальных элементов? 95-процентная квантиль?"
   ]
  },
  {
   "cell_type": "markdown",
   "metadata": {},
   "source": [
    "Для вычисления квантили воспользуйтесь функцией `np.percentile`"
   ]
  },
  {
   "cell_type": "code",
   "execution_count": 69,
   "metadata": {
    "collapsed": false
   },
   "outputs": [
    {
     "name": "stdout",
     "output_type": "stream",
     "text": [
      "8.4440872453\n",
      "12.1529962234\n"
     ]
    }
   ],
   "source": [
    "m = np.zeros(1000)\n",
    "for i in range(1000):\n",
    "    A, B = np.random.normal(size = (10, 10)), np.random.normal(size = (10, 10))\n",
    "    m[i] = np.dot(A, B).max()\n",
    "print(m.sum()/1000)\n",
    "print(np.percentile(m, 95))"
   ]
  },
  {
   "cell_type": "markdown",
   "metadata": {},
   "source": [
    "#### 2. Сгенерируйте 1000 чисел из распределения Пуассона с параметром $\\lambda = 5$. Сформируйте массив, в котором в i-м элементе будет записано количество сгенерированных чисел, равных i."
   ]
  },
  {
   "cell_type": "markdown",
   "metadata": {},
   "source": [
    "Обратите внимание на функцию `np.bincount`"
   ]
  },
  {
   "cell_type": "code",
   "execution_count": 128,
   "metadata": {
    "collapsed": false
   },
   "outputs": [
    {
     "data": {
      "text/plain": [
       "array([0, 1, 1, 2, 0, 4, 1, 0, 0, 1])"
      ]
     },
     "execution_count": 128,
     "metadata": {},
     "output_type": "execute_result"
    }
   ],
   "source": [
    "a = np.random.poisson(lam=5, size=(10,))\n",
    "b = np.bincount(a)\n",
    "b"
   ]
  },
  {
   "cell_type": "markdown",
   "metadata": {},
   "source": [
    "#### 3. Реализуйте функцию, которая принимает на вход numpy-массив целых чисел `a`, и генерирует массив, в котором число `i` встречается `a[i]` раз. Протестируйте на результате из прошлого задания."
   ]
  },
  {
   "cell_type": "markdown",
   "metadata": {},
   "source": [
    "Обратите внимание на функцию `np.repeat`"
   ]
  },
  {
   "cell_type": "code",
   "execution_count": 129,
   "metadata": {
    "collapsed": false
   },
   "outputs": [
    {
     "data": {
      "text/plain": [
       "array([0, 0, 1, 1, 1, 2, 2, 2, 3, 3, 3, 3, 3, 4, 4, 4, 4, 4, 4, 5, 5, 5, 5,\n",
       "       5, 5, 5, 5, 5, 6, 6, 6, 6, 6, 7, 7, 7, 7, 7, 8, 9, 9, 9, 9, 9])"
      ]
     },
     "execution_count": 129,
     "metadata": {},
     "output_type": "execute_result"
    }
   ],
   "source": [
    "def f(a):\n",
    "    return np.repeat(range(len(a)), a)\n",
    "f(a)"
   ]
  },
  {
   "cell_type": "markdown",
   "metadata": {},
   "source": [
    "#### 4. Напишите функцию `scale(X)`, которая принимает на вход матрицу и масштабирует каждый ее столбец (вычитает среднее и делит на стандартное отклонение). Убедитесь, что в функции не будет происходить деления на ноль. Протестируйте на каких-нибудь данных."
   ]
  },
  {
   "cell_type": "code",
   "execution_count": 136,
   "metadata": {
    "collapsed": false
   },
   "outputs": [
    {
     "name": "stdout",
     "output_type": "stream",
     "text": [
      "[[ 1.  0.  0.  0.]\n",
      " [ 0.  1.  0.  0.]\n",
      " [ 0.  0.  1.  0.]\n",
      " [ 0.  0.  0.  1.]\n",
      " [ 1.  1.  1.  1.]]\n",
      "[[ 1.22474487 -0.81649658 -0.81649658 -0.81649658]\n",
      " [-0.81649658  1.22474487 -0.81649658 -0.81649658]\n",
      " [-0.81649658 -0.81649658  1.22474487 -0.81649658]\n",
      " [-0.81649658 -0.81649658 -0.81649658  1.22474487]\n",
      " [ 1.22474487  1.22474487  1.22474487  1.22474487]]\n",
      "\n",
      "[[ 0.  0.  0.  0.]\n",
      " [ 0.  0.  0.  0.]\n",
      " [ 0.  0.  0.  0.]]\n"
     ]
    }
   ],
   "source": [
    "def scale(X):\n",
    "    s = (np.std(X, axis=0) == np.zeros(X.shape[1])) + np.std(X, axis=0)\n",
    "    return (X - np.mean(X, axis=0)) / s\n",
    "\n",
    "#Вроде работает\n",
    "         \n",
    "A = np.vstack((np.eye(4),[1, 1, 1, 1]))\n",
    "print(A)\n",
    "print(scale(A))\n",
    "print()\n",
    "print(scale(np.ones((3, 4))))"
   ]
  },
  {
   "cell_type": "markdown",
   "metadata": {},
   "source": [
    "#### 5. Сгенерируйте матрицу с элементами из нормального распределения $\\mathcal{N}(10, 1)$. Найдите ее:\n",
    "- определитель\n",
    "- след\n",
    "- наименьший и наибольший элементы\n",
    "- спектральную норму\n",
    "- норму Фробениуса\n",
    "- собственные числа\n",
    "- обратную матрицу"
   ]
  },
  {
   "cell_type": "code",
   "execution_count": 160,
   "metadata": {
    "collapsed": false
   },
   "outputs": [
    {
     "name": "stdout",
     "output_type": "stream",
     "text": [
      "[[  9.77782786   9.38998953  10.89344103   9.65646889]\n",
      " [  9.00602992   8.973025     9.47409509  10.01247318]\n",
      " [ 10.54662067  11.55145253   9.59912939   9.5385298 ]\n",
      " [ 10.13698392   8.97410358   9.48667306  10.37151533]]\n",
      "det = -54.334893183\n",
      "trace = 38.7214975815\n",
      "max = 11.5514525311\n",
      "min = 8.9730249989\n",
      "spectral norm = 39.3711657394\n",
      "Frobenius norm = 39.445867877\n",
      "eigenvalues = [ 39.35356488+0.j          -1.53598058+0.j           0.45195664+0.83344484j\n",
      "   0.45195664-0.83344484j]\n",
      "inverted\n",
      "[[ 0.14716031 -1.1246997   0.05941076  0.89411094]\n",
      " [-0.20396656  0.42470079  0.3273215  -0.52112678]\n",
      " [ 0.56338435 -0.02780807 -0.17411922 -0.33756249]\n",
      " [-0.48266696  0.75722397 -0.18202267 -0.01779852]]\n"
     ]
    }
   ],
   "source": [
    "B = np.random.normal(loc=10, size = (4, 4))\n",
    "print (B)\n",
    "print (\"det =\", np.linalg.det(B))\n",
    "print (\"trace =\", np.trace(B))\n",
    "print (\"max =\", np.max(B))\n",
    "print (\"min =\", np.min(B))\n",
    "print (\"spectral norm =\", np.linalg.norm(B, ord=2))\n",
    "print (\"Frobenius norm =\", np.linalg.norm(B, ord='fro'))\n",
    "print (\"eigenvalues =\", np.linalg.eigvals(B))\n",
    "print (\"inverted\")\n",
    "print (np.linalg.inv(B))"
   ]
  },
  {
   "cell_type": "markdown",
   "metadata": {},
   "source": [
    "## Часть 3: Pandas"
   ]
  },
  {
   "cell_type": "markdown",
   "metadata": {},
   "source": [
    "#### Ответьте на вопросы о данных по авиарейсам в США за январь-апрель 2008 года.\n",
    "\n",
    "Данные: http://stat-computing.org/dataexpo/2009/2008.csv.bz2\n",
    "(обратите внимание, что распаковывать этот файл не обязательно — функция `pandas.read_csv` умеет читать из архивов автоматически)\n",
    "\n",
    "Описание: http://stat-computing.org/dataexpo/2009/the-data.html\n",
    "\n",
    "1. Какая из причин отмены рейса (`CancellationCode`) была самой частой? (расшифровки кодов можно найти в описании данных)\n",
    "2. Найдите среднее, минимальное и максимальное расстояние, пройденное самолетом.\n",
    "3. Не выглядит ли подозрительным минимальное пройденное расстояние? В какие дни и на каких рейсах оно было? Какое расстояние было пройдено этими же рейсами в другие дни?\n",
    "4. Из какого аэропорта было произведено больше всего вылетов? В каком городе он находится?\n",
    "5. Найдите для каждого аэропорта среднее время полета (`AirTime`) по всем вылетевшим из него рейсам. Какой аэропорт имеет наибольшее значение этого показателя?\n",
    "6. Найдите аэропорт, у которого наибольшая доля задержанных (`DepDelay > 0`) рейсов. Исключите при этом из рассмотрения аэропорты, из которых было отправлено меньше 1000 рейсов (используйте функцию `filter` после `groupby`)."
   ]
  },
  {
   "cell_type": "code",
   "execution_count": 2,
   "metadata": {
    "collapsed": false
   },
   "outputs": [],
   "source": [
    "#опять очень долго, скачал вручную и положил в папку с ноутбуком\n",
    "#Пришлось разархивировать, так как архив не хотел распаковываться из-за каких-то проблем с кодировками\n",
    "\n",
    "data = pd.read_csv('./2008.csv')"
   ]
  },
  {
   "cell_type": "markdown",
   "metadata": {},
   "source": [
    "# 1"
   ]
  },
  {
   "cell_type": "code",
   "execution_count": 50,
   "metadata": {
    "collapsed": false
   },
   "outputs": [
    {
     "data": {
      "text/plain": [
       "B    54904\n",
       "A    54330\n",
       "C    28188\n",
       "D       12\n",
       "dtype: int64"
      ]
     },
     "execution_count": 50,
     "metadata": {},
     "output_type": "execute_result"
    }
   ],
   "source": [
    "data.CancellationCode[data.CancellationCode.notnull()].value_counts()"
   ]
  },
  {
   "cell_type": "code",
   "execution_count": null,
   "metadata": {
    "collapsed": true
   },
   "outputs": [],
   "source": [
    "print(\"Frequenciest reason was weather\")"
   ]
  },
  {
   "cell_type": "markdown",
   "metadata": {},
   "source": [
    "# 2"
   ]
  },
  {
   "cell_type": "code",
   "execution_count": 16,
   "metadata": {
    "collapsed": false
   },
   "outputs": [
    {
     "name": "stdout",
     "output_type": "stream",
     "text": [
      "average distance= 726.387029425\n",
      "min = 11\n",
      "max = 4962\n"
     ]
    }
   ],
   "source": [
    "print (\"average distance=\", data.Distance.mean())\n",
    "print (\"min =\", data.Distance.min())\n",
    "print (\"max =\", data.Distance.max())"
   ]
  },
  {
   "cell_type": "markdown",
   "metadata": {},
   "source": [
    "# 3"
   ]
  },
  {
   "cell_type": "code",
   "execution_count": 36,
   "metadata": {
    "collapsed": false
   },
   "outputs": [
    {
     "name": "stdout",
     "output_type": "stream",
     "text": [
      "Нет, не выглядит. Скорее всего, самолет разгонялся, но не взлетал и тормозил\n"
     ]
    },
    {
     "data": {
      "text/html": [
       "<div style=\"max-height:1000px;max-width:1500px;overflow:auto;\">\n",
       "<table border=\"1\" class=\"dataframe\">\n",
       "  <thead>\n",
       "    <tr style=\"text-align: right;\">\n",
       "      <th></th>\n",
       "      <th>DayOfWeek</th>\n",
       "      <th>Month</th>\n",
       "      <th>Year</th>\n",
       "      <th>FlightNum</th>\n",
       "    </tr>\n",
       "  </thead>\n",
       "  <tbody>\n",
       "    <tr>\n",
       "      <th>2547298</th>\n",
       "      <td> 4</td>\n",
       "      <td> 5</td>\n",
       "      <td> 2008</td>\n",
       "      <td> 4988</td>\n",
       "    </tr>\n",
       "    <tr>\n",
       "      <th>4392215</th>\n",
       "      <td> 7</td>\n",
       "      <td> 8</td>\n",
       "      <td> 2008</td>\n",
       "      <td> 5572</td>\n",
       "    </tr>\n",
       "  </tbody>\n",
       "</table>\n",
       "</div>"
      ],
      "text/plain": [
       "         DayOfWeek  Month  Year  FlightNum\n",
       "2547298          4      5  2008       4988\n",
       "4392215          7      8  2008       5572"
      ]
     },
     "execution_count": 36,
     "metadata": {},
     "output_type": "execute_result"
    }
   ],
   "source": [
    "print (\"Нет, не выглядит. Скорее всего, самолет разгонялся, но не взлетал и тормозил\")\n",
    "data[data.Distance == data.Distance.min()][['DayOfWeek', 'Month', 'Year', 'FlightNum']]"
   ]
  },
  {
   "cell_type": "code",
   "execution_count": 37,
   "metadata": {
    "collapsed": false
   },
   "outputs": [
    {
     "data": {
      "text/plain": [
       "151771    834\n",
       "152430    834\n",
       "153088    834\n",
       "153545    834\n",
       "154096    834\n",
       "154750    834\n",
       "155308    834\n",
       "155962    834\n",
       "156627    834\n",
       "157287    834\n",
       "157747    834\n",
       "158301    834\n",
       "158958    834\n",
       "159514    834\n",
       "160169    834\n",
       "...\n",
       "6776744    903\n",
       "6776745    903\n",
       "6776746    903\n",
       "6776747    903\n",
       "6776748    903\n",
       "6776749    903\n",
       "6776750    903\n",
       "6776751    903\n",
       "6776752    903\n",
       "6776753    903\n",
       "6776754    903\n",
       "6776755    903\n",
       "6776756    903\n",
       "6776757    903\n",
       "6776758    903\n",
       "Name: Distance, Length: 225, dtype: int64"
      ]
     },
     "execution_count": 37,
     "metadata": {},
     "output_type": "execute_result"
    }
   ],
   "source": [
    "data[data.FlightNum == 4988].Distance"
   ]
  },
  {
   "cell_type": "code",
   "execution_count": 38,
   "metadata": {
    "collapsed": false
   },
   "outputs": [
    {
     "data": {
      "text/plain": [
       "151629    544\n",
       "152291    544\n",
       "152949    544\n",
       "153419    544\n",
       "153963    544\n",
       "154611    544\n",
       "155185    544\n",
       "155823    544\n",
       "156485    544\n",
       "157148    544\n",
       "157622    544\n",
       "158169    544\n",
       "158819    544\n",
       "159392    544\n",
       "160029    544\n",
       "...\n",
       "6771549    134\n",
       "6771550    134\n",
       "6771551    134\n",
       "6771552    134\n",
       "6771553    134\n",
       "6771554    134\n",
       "6771555    134\n",
       "6771556    134\n",
       "6771557    134\n",
       "6771558    134\n",
       "6771559    669\n",
       "6771560    508\n",
       "6771561    508\n",
       "6771562    508\n",
       "6771563    508\n",
       "Name: Distance, Length: 826, dtype: int64"
      ]
     },
     "execution_count": 38,
     "metadata": {},
     "output_type": "execute_result"
    }
   ],
   "source": [
    "data[data.FlightNum == 5572].Distance"
   ]
  },
  {
   "cell_type": "markdown",
   "metadata": {},
   "source": [
    "# 4"
   ]
  },
  {
   "cell_type": "code",
   "execution_count": 46,
   "metadata": {
    "collapsed": false
   },
   "outputs": [
    {
     "name": "stdout",
     "output_type": "stream",
     "text": [
      "Максимальное число вылетов из аэропорта ATL в городе Атланта\n"
     ]
    }
   ],
   "source": [
    "print (\"Максимальное число вылетов из аэропорта\", data.groupby('Origin').size().argmax(), \"в городе Атланта\")"
   ]
  },
  {
   "cell_type": "markdown",
   "metadata": {},
   "source": [
    "# 5"
   ]
  },
  {
   "cell_type": "code",
   "execution_count": 47,
   "metadata": {
    "collapsed": false
   },
   "outputs": [
    {
     "data": {
      "text/plain": [
       "Origin\n",
       "ABE        89.057518\n",
       "ABI        36.789977\n",
       "ABQ        91.657166\n",
       "ABY        35.379759\n",
       "ACK        50.692124\n",
       "ACT        29.875977\n",
       "ACV        58.850658\n",
       "ACY       108.848214\n",
       "ADK       151.423913\n",
       "ADQ        41.987934\n",
       "AEX        68.543556\n",
       "AGS        36.933814\n",
       "AKN        37.321429\n",
       "ALB       101.860527\n",
       "ALO        36.373134\n",
       "...\n",
       "TUP       42.900000\n",
       "TUS       92.801864\n",
       "TVC       49.328770\n",
       "TWF       41.316563\n",
       "TXK       43.796312\n",
       "TYR       30.372715\n",
       "TYS       81.030894\n",
       "VLD       45.158351\n",
       "VPS       75.231116\n",
       "WRG       16.741606\n",
       "WYS       62.961977\n",
       "XNA       84.253180\n",
       "YAK       36.372159\n",
       "YKM       80.697329\n",
       "YUM       48.876952\n",
       "Name: AirTime, Length: 303, dtype: float64"
      ]
     },
     "execution_count": 47,
     "metadata": {},
     "output_type": "execute_result"
    }
   ],
   "source": [
    "data.groupby('Origin').AirTime.mean()"
   ]
  },
  {
   "cell_type": "code",
   "execution_count": 48,
   "metadata": {
    "collapsed": false
   },
   "outputs": [
    {
     "name": "stdout",
     "output_type": "stream",
     "text": [
      "Наибольшее среднее время полета в аэропорту SJU\n"
     ]
    }
   ],
   "source": [
    "print (\"Наибольшее среднее время полета в аэропорту\", data.groupby('Origin').AirTime.mean().argmax())"
   ]
  },
  {
   "cell_type": "markdown",
   "metadata": {},
   "source": [
    "# 6"
   ]
  },
  {
   "cell_type": "code",
   "execution_count": 3,
   "metadata": {
    "collapsed": false
   },
   "outputs": [],
   "source": [
    "filtered = data.groupby('Origin').filter(lambda x: x['Origin'].count() >= 1000).groupby('Origin')\n",
    "#(data.groupby('Origin').size() >= 1000)\n",
    "#data.groupby('Origin')"
   ]
  },
  {
   "cell_type": "code",
   "execution_count": 28,
   "metadata": {
    "collapsed": false
   },
   "outputs": [
    {
     "data": {
      "text/plain": [
       "<pandas.core.groupby.DataFrameGroupBy object at 0x7f0d6a54eb00>"
      ]
     },
     "execution_count": 28,
     "metadata": {},
     "output_type": "execute_result"
    }
   ],
   "source": [
    "filtered"
   ]
  },
  {
   "cell_type": "code",
   "execution_count": 40,
   "metadata": {
    "collapsed": false,
    "scrolled": true
   },
   "outputs": [
    {
     "data": {
      "text/plain": [
       "{'ABE': 4807,\n",
       " 'ABI': 2660,\n",
       " 'ABQ': 41146,\n",
       " 'ABY': 1095,\n",
       " 'ACT': 1993,\n",
       " 'ACV': 3714,\n",
       " 'AEX': 2330,\n",
       " 'AGS': 2403,\n",
       " 'ALB': 13474,\n",
       " 'AMA': 7496,\n",
       " 'ANC': 19327,\n",
       " 'ASE': 5307,\n",
       " 'ATL': 414513,\n",
       " 'ATW': 5873,\n",
       " 'AUS': 49623,\n",
       " 'AVL': 4399,\n",
       " 'AVP': 2386,\n",
       " 'AZO': 3924,\n",
       " 'BDL': 29449,\n",
       " 'BET': 1035,\n",
       " 'BFL': 4502,\n",
       " 'BGR': 2879,\n",
       " 'BHM': 23679,\n",
       " 'BIL': 4505,\n",
       " 'BIS': 2293,\n",
       " 'BMI': 4801,\n",
       " 'BNA': 57539,\n",
       " 'BOI': 17024,\n",
       " 'BOS': 117915,\n",
       " 'BQN': 1519,\n",
       " 'BRO': 1464,\n",
       " 'BTR': 8941,\n",
       " 'BTV': 7005,\n",
       " 'BUF': 26281,\n",
       " 'BUR': 31405,\n",
       " 'BWI': 104074,\n",
       " 'BZN': 4659,\n",
       " 'CAE': 10550,\n",
       " 'CAK': 8994,\n",
       " 'CEC': 1063,\n",
       " 'CHA': 4571,\n",
       " 'CHS': 14181,\n",
       " 'CIC': 1392,\n",
       " 'CID': 9377,\n",
       " 'CLD': 2303,\n",
       " 'CLE': 65795,\n",
       " 'CLL': 1367,\n",
       " 'CLT': 126045,\n",
       " 'CMH': 34157,\n",
       " 'CMI': 2774,\n",
       " 'COD': 1188,\n",
       " 'COS': 16201,\n",
       " 'CPR': 2709,\n",
       " 'CRP': 5270,\n",
       " 'CRW': 3414,\n",
       " 'CSG': 1481,\n",
       " 'CVG': 91265,\n",
       " 'CWA': 2563,\n",
       " 'DAB': 2957,\n",
       " 'DAL': 53928,\n",
       " 'DAY': 15791,\n",
       " 'DBQ': 1349,\n",
       " 'DCA': 86662,\n",
       " 'DEN': 241443,\n",
       " 'DFW': 281281,\n",
       " 'DHN': 1397,\n",
       " 'DLH': 2013,\n",
       " 'DRO': 3674,\n",
       " 'DSM': 16643,\n",
       " 'DTW': 161989,\n",
       " 'EGE': 3106,\n",
       " 'EKO': 1580,\n",
       " 'ELM': 1336,\n",
       " 'ELP': 20731,\n",
       " 'ERI': 1399,\n",
       " 'EUG': 5749,\n",
       " 'EVV': 5844,\n",
       " 'EWR': 138506,\n",
       " 'EYW': 1009,\n",
       " 'FAI': 4822,\n",
       " 'FAR': 4431,\n",
       " 'FAT': 14278,\n",
       " 'FAY': 2267,\n",
       " 'FCA': 2762,\n",
       " 'FLG': 1871,\n",
       " 'FLL': 67177,\n",
       " 'FNT': 8749,\n",
       " 'FSD': 5828,\n",
       " 'FSM': 2937,\n",
       " 'FWA': 6144,\n",
       " 'GCC': 1046,\n",
       " 'GEG': 15560,\n",
       " 'GFK': 1371,\n",
       " 'GJT': 5152,\n",
       " 'GNV': 2064,\n",
       " 'GPT': 8541,\n",
       " 'GRB': 7930,\n",
       " 'GRK': 3733,\n",
       " 'GRR': 16616,\n",
       " 'GSO': 13558,\n",
       " 'GSP': 11856,\n",
       " 'GTF': 2140,\n",
       " 'HDN': 2398,\n",
       " 'HLN': 1986,\n",
       " 'HNL': 56276,\n",
       " 'HOU': 55933,\n",
       " 'HPN': 10715,\n",
       " 'HRL': 4421,\n",
       " 'HSV': 10791,\n",
       " 'IAD': 76031,\n",
       " 'IAH': 185172,\n",
       " 'ICT': 14050,\n",
       " 'IDA': 3103,\n",
       " 'ILM': 3397,\n",
       " 'IND': 42750,\n",
       " 'ISP': 10183,\n",
       " 'ITO': 8051,\n",
       " 'JAC': 3766,\n",
       " 'JAN': 12609,\n",
       " 'JAX': 32685,\n",
       " 'JFK': 118804,\n",
       " 'JNU': 4410,\n",
       " 'KOA': 12710,\n",
       " 'KTN': 2380,\n",
       " 'LAN': 3693,\n",
       " 'LAS': 172876,\n",
       " 'LAW': 2369,\n",
       " 'LAX': 215608,\n",
       " 'LBB': 8249,\n",
       " 'LCH': 1000,\n",
       " 'LEX': 10344,\n",
       " 'LFT': 4879,\n",
       " 'LGA': 119135,\n",
       " 'LGB': 15443,\n",
       " 'LIH': 13184,\n",
       " 'LIT': 15369,\n",
       " 'LNK': 3037,\n",
       " 'LRD': 2115,\n",
       " 'LSE': 2005,\n",
       " 'MAF': 6839,\n",
       " 'MBS': 2918,\n",
       " 'MCI': 59370,\n",
       " 'MCO': 130872,\n",
       " 'MDT': 7594,\n",
       " 'MDW': 87619,\n",
       " 'MEM': 80966,\n",
       " 'MFE': 4116,\n",
       " 'MFR': 5652,\n",
       " 'MGM': 3851,\n",
       " 'MHT': 18588,\n",
       " 'MIA': 62559,\n",
       " 'MKE': 42700,\n",
       " 'MLB': 2002,\n",
       " 'MLI': 8567,\n",
       " 'MLU': 2530,\n",
       " 'MOB': 6348,\n",
       " 'MOD': 2325,\n",
       " 'MOT': 1085,\n",
       " 'MRY': 7607,\n",
       " 'MSN': 13961,\n",
       " 'MSO': 3256,\n",
       " 'MSP': 130289,\n",
       " 'MSY': 39422,\n",
       " 'MTJ': 2419,\n",
       " 'MYR': 5335,\n",
       " 'OAJ': 1184,\n",
       " 'OAK': 62535,\n",
       " 'OGG': 19940,\n",
       " 'OKC': 25152,\n",
       " 'OMA': 27007,\n",
       " 'OME': 1090,\n",
       " 'ONT': 35072,\n",
       " 'ORD': 350380,\n",
       " 'ORF': 16458,\n",
       " 'OTZ': 1086,\n",
       " 'OXR': 1292,\n",
       " 'PBI': 27822,\n",
       " 'PDX': 57860,\n",
       " 'PFN': 3875,\n",
       " 'PHF': 6406,\n",
       " 'PHL': 100499,\n",
       " 'PHX': 199408,\n",
       " 'PIA': 5581,\n",
       " 'PIH': 1659,\n",
       " 'PIT': 41800,\n",
       " 'PNS': 9497,\n",
       " 'PSC': 2541,\n",
       " 'PSP': 11979,\n",
       " 'PVD': 22509,\n",
       " 'PWM': 6897,\n",
       " 'RAP': 4161,\n",
       " 'RDD': 1682,\n",
       " 'RDM': 3434,\n",
       " 'RDU': 60179,\n",
       " 'RIC': 19977,\n",
       " 'RNO': 24286,\n",
       " 'ROA': 3720,\n",
       " 'ROC': 14264,\n",
       " 'RST': 3353,\n",
       " 'RSW': 27136,\n",
       " 'SAN': 93775,\n",
       " 'SAT': 45270,\n",
       " 'SAV': 13774,\n",
       " 'SBA': 12568,\n",
       " 'SBN': 5319,\n",
       " 'SBP': 5846,\n",
       " 'SDF': 22458,\n",
       " 'SEA': 109069,\n",
       " 'SFO': 140587,\n",
       " 'SGF': 10087,\n",
       " 'SGU': 3319,\n",
       " 'SHV': 8079,\n",
       " 'SIT': 1332,\n",
       " 'SJC': 57136,\n",
       " 'SJT': 1316,\n",
       " 'SJU': 21676,\n",
       " 'SLC': 139088,\n",
       " 'SMF': 53056,\n",
       " 'SMX': 1681,\n",
       " 'SNA': 47376,\n",
       " 'SPI': 1225,\n",
       " 'SPS': 1834,\n",
       " 'SRQ': 6432,\n",
       " 'STL': 62733,\n",
       " 'STT': 2972,\n",
       " 'SUN': 2871,\n",
       " 'SWF': 4249,\n",
       " 'SYR': 12032,\n",
       " 'TLH': 5912,\n",
       " 'TOL': 1478,\n",
       " 'TPA': 78179,\n",
       " 'TRI': 2117,\n",
       " 'TUL': 23459,\n",
       " 'TUS': 26661,\n",
       " 'TVC': 4262,\n",
       " 'TWF': 1813,\n",
       " 'TXK': 1250,\n",
       " 'TYR': 1585,\n",
       " 'TYS': 14004,\n",
       " 'VPS': 6820,\n",
       " 'XNA': 14112,\n",
       " 'YUM': 3871}"
      ]
     },
     "execution_count": 40,
     "metadata": {},
     "output_type": "execute_result"
    }
   ],
   "source": [
    "d = dict(filtered.size())\n",
    "d"
   ]
  },
  {
   "cell_type": "code",
   "execution_count": 43,
   "metadata": {
    "collapsed": false
   },
   "outputs": [
    {
     "name": "stdout",
     "output_type": "stream",
     "text": [
      "Максимальная доля задержанных рейсов в аэропорту DAL\n"
     ]
    }
   ],
   "source": [
    "d = dict(filtered.size())\n",
    "for i in filtered:\n",
    "    tempdf = i[1]\n",
    "    count += 1\n",
    "    s = np.sum(tempdf.DepDelay > 0)\n",
    "    d[i[0]] = s / d[i[0]]\n",
    "    \n",
    "print(\"Максимальная доля задержанных рейсов в аэропорту\", max(d, key=d.get))"
   ]
  },
  {
   "cell_type": "code",
   "execution_count": null,
   "metadata": {
    "collapsed": true
   },
   "outputs": [],
   "source": []
  }
 ],
 "metadata": {
  "kernelspec": {
   "display_name": "Python 3",
   "language": "python",
   "name": "python3"
  },
  "language_info": {
   "codemirror_mode": {
    "name": "ipython",
    "version": 3
   },
   "file_extension": ".py",
   "mimetype": "text/x-python",
   "name": "python",
   "nbconvert_exporter": "python",
   "pygments_lexer": "ipython3",
   "version": "3.4.3"
  }
 },
 "nbformat": 4,
 "nbformat_minor": 0
}
