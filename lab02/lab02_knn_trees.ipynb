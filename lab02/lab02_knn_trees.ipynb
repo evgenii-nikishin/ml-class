{
 "cells": [
  {
   "cell_type": "markdown",
   "metadata": {},
   "source": [
    "# Лабораторная работа 2. Метод ближайших соседей и решающие деревья."
   ]
  },
  {
   "cell_type": "markdown",
   "metadata": {},
   "source": [
    "ФИО: Никишин Евгений Сергеевич\n",
    "\n",
    "Группа: 317"
   ]
  },
  {
   "cell_type": "code",
   "execution_count": 21,
   "metadata": {
    "collapsed": true
   },
   "outputs": [],
   "source": [
    "import numpy as np\n",
    "import pandas as pd\n",
    "from sklearn.neighbors import KNeighborsClassifier\n",
    "from sklearn.metrics import roc_auc_score\n",
    "from sklearn.cross_validation import KFold\n",
    "import scipy as sp\n",
    "import time"
   ]
  },
  {
   "cell_type": "markdown",
   "metadata": {},
   "source": [
    "Все эксперименты в этой лабораторной работе предлагается проводить на данных соревнования Amazon Employee Access Challenge: https://www.kaggle.com/c/amazon-employee-access-challenge\n",
    "\n",
    "В данной задаче предлагается предсказать, будет ли одобрен запрос сотрудника на получение доступа к тому или иному ресурсу. Все признаки являются категориальными.\n",
    "\n",
    "Для удобства данные можно загрузить по ссылке: https://www.dropbox.com/s/q6fbs1vvhd5kvek/amazon.csv\n",
    "\n",
    "Сразу прочитаем данные и создадим разбиение на обучение и контроль:"
   ]
  },
  {
   "cell_type": "code",
   "execution_count": 22,
   "metadata": {
    "collapsed": false
   },
   "outputs": [
    {
     "data": {
      "text/html": [
       "<div style=\"max-height:1000px;max-width:1500px;overflow:auto;\">\n",
       "<table border=\"1\" class=\"dataframe\">\n",
       "  <thead>\n",
       "    <tr style=\"text-align: right;\">\n",
       "      <th></th>\n",
       "      <th>ACTION</th>\n",
       "      <th>RESOURCE</th>\n",
       "      <th>MGR_ID</th>\n",
       "      <th>ROLE_ROLLUP_1</th>\n",
       "      <th>ROLE_ROLLUP_2</th>\n",
       "      <th>ROLE_DEPTNAME</th>\n",
       "      <th>ROLE_TITLE</th>\n",
       "      <th>ROLE_FAMILY_DESC</th>\n",
       "      <th>ROLE_FAMILY</th>\n",
       "      <th>ROLE_CODE</th>\n",
       "    </tr>\n",
       "  </thead>\n",
       "  <tbody>\n",
       "    <tr>\n",
       "      <th>0</th>\n",
       "      <td> 1</td>\n",
       "      <td> 39353</td>\n",
       "      <td> 85475</td>\n",
       "      <td> 117961</td>\n",
       "      <td> 118300</td>\n",
       "      <td> 123472</td>\n",
       "      <td> 117905</td>\n",
       "      <td> 117906</td>\n",
       "      <td> 290919</td>\n",
       "      <td> 117908</td>\n",
       "    </tr>\n",
       "    <tr>\n",
       "      <th>1</th>\n",
       "      <td> 1</td>\n",
       "      <td> 17183</td>\n",
       "      <td>  1540</td>\n",
       "      <td> 117961</td>\n",
       "      <td> 118343</td>\n",
       "      <td> 123125</td>\n",
       "      <td> 118536</td>\n",
       "      <td> 118536</td>\n",
       "      <td> 308574</td>\n",
       "      <td> 118539</td>\n",
       "    </tr>\n",
       "    <tr>\n",
       "      <th>2</th>\n",
       "      <td> 1</td>\n",
       "      <td> 36724</td>\n",
       "      <td> 14457</td>\n",
       "      <td> 118219</td>\n",
       "      <td> 118220</td>\n",
       "      <td> 117884</td>\n",
       "      <td> 117879</td>\n",
       "      <td> 267952</td>\n",
       "      <td>  19721</td>\n",
       "      <td> 117880</td>\n",
       "    </tr>\n",
       "    <tr>\n",
       "      <th>3</th>\n",
       "      <td> 1</td>\n",
       "      <td> 36135</td>\n",
       "      <td>  5396</td>\n",
       "      <td> 117961</td>\n",
       "      <td> 118343</td>\n",
       "      <td> 119993</td>\n",
       "      <td> 118321</td>\n",
       "      <td> 240983</td>\n",
       "      <td> 290919</td>\n",
       "      <td> 118322</td>\n",
       "    </tr>\n",
       "    <tr>\n",
       "      <th>4</th>\n",
       "      <td> 1</td>\n",
       "      <td> 42680</td>\n",
       "      <td>  5905</td>\n",
       "      <td> 117929</td>\n",
       "      <td> 117930</td>\n",
       "      <td> 119569</td>\n",
       "      <td> 119323</td>\n",
       "      <td> 123932</td>\n",
       "      <td>  19793</td>\n",
       "      <td> 119325</td>\n",
       "    </tr>\n",
       "  </tbody>\n",
       "</table>\n",
       "</div>"
      ],
      "text/plain": [
       "   ACTION  RESOURCE  MGR_ID  ROLE_ROLLUP_1  ROLE_ROLLUP_2  ROLE_DEPTNAME  \\\n",
       "0       1     39353   85475         117961         118300         123472   \n",
       "1       1     17183    1540         117961         118343         123125   \n",
       "2       1     36724   14457         118219         118220         117884   \n",
       "3       1     36135    5396         117961         118343         119993   \n",
       "4       1     42680    5905         117929         117930         119569   \n",
       "\n",
       "   ROLE_TITLE  ROLE_FAMILY_DESC  ROLE_FAMILY  ROLE_CODE  \n",
       "0      117905            117906       290919     117908  \n",
       "1      118536            118536       308574     118539  \n",
       "2      117879            267952        19721     117880  \n",
       "3      118321            240983       290919     118322  \n",
       "4      119323            123932        19793     119325  "
      ]
     },
     "execution_count": 22,
     "metadata": {},
     "output_type": "execute_result"
    }
   ],
   "source": [
    "data = pd.read_csv('amazon.csv')\n",
    "data.head()"
   ]
  },
  {
   "cell_type": "code",
   "execution_count": 8,
   "metadata": {
    "collapsed": false
   },
   "outputs": [
    {
     "data": {
      "text/plain": [
       "(32769, 10)"
      ]
     },
     "execution_count": 8,
     "metadata": {},
     "output_type": "execute_result"
    }
   ],
   "source": [
    "data.shape"
   ]
  },
  {
   "cell_type": "code",
   "execution_count": 9,
   "metadata": {
    "collapsed": false
   },
   "outputs": [
    {
     "data": {
      "text/plain": [
       "0.94210992096188473"
      ]
     },
     "execution_count": 9,
     "metadata": {},
     "output_type": "execute_result"
    }
   ],
   "source": [
    "# доля положительных примеров\n",
    "data.ACTION.mean()"
   ]
  },
  {
   "cell_type": "code",
   "execution_count": 10,
   "metadata": {
    "collapsed": false
   },
   "outputs": [
    {
     "name": "stdout",
     "output_type": "stream",
     "text": [
      "ACTION 2\n",
      "RESOURCE 7518\n",
      "MGR_ID 4243\n",
      "ROLE_ROLLUP_1 128\n",
      "ROLE_ROLLUP_2 177\n",
      "ROLE_DEPTNAME 449\n",
      "ROLE_TITLE 343\n",
      "ROLE_FAMILY_DESC 2358\n",
      "ROLE_FAMILY 67\n",
      "ROLE_CODE 343\n"
     ]
    }
   ],
   "source": [
    "# число значений у признаков\n",
    "for col_name in data.columns:\n",
    "    print col_name, len(data[col_name].unique())"
   ]
  },
  {
   "cell_type": "code",
   "execution_count": 23,
   "metadata": {
    "collapsed": true
   },
   "outputs": [],
   "source": [
    "from sklearn.cross_validation import train_test_split\n",
    "X_train, X_test, y_train, y_test = train_test_split(data.iloc[:, 1:], data.iloc[:, 0],\n",
    "                                                    test_size=0.3, random_state=241)"
   ]
  },
  {
   "cell_type": "markdown",
   "metadata": {},
   "source": [
    "## Часть 1: kNN и категориальные признаки"
   ]
  },
  {
   "cell_type": "markdown",
   "metadata": {},
   "source": [
    "#### 1. Реализуйте три функции расстояния на категориальных признаках, которые обсуждались на втором семинаре. Реализуйте самостоятельно метод k ближайших соседей, который будет уметь работать с этими функциями расстояния (учитите, что он должен возвращать вероятность — отношение объектов первого класса среди соседей к числу соседей). Как вариант, можно реализовать метрики как [user-defined distance](http://scikit-learn.org/stable/modules/generated/sklearn.neighbors.DistanceMetric.html), после чего воспользоваться реализацией kNN из sklearn (в этом случае используйте функцию predict_proba).\n",
    "\n",
    "#### Подсчитайте для каждой из метрик качество на тестовой выборке `X_test` при числе соседей $k = 10$. Мера качества — AUC-ROC.\n",
    "\n",
    "Какая функция расстояния оказалась лучшей?"
   ]
  },
  {
   "cell_type": "markdown",
   "metadata": {},
   "source": [
    "#### Опишем класс kNN, как в sklearn'e"
   ]
  },
  {
   "cell_type": "code",
   "execution_count": 24,
   "metadata": {
    "collapsed": false
   },
   "outputs": [],
   "source": [
    "class kNN:\n",
    "    def __init__(self, distance_function, n_neighbors):\n",
    "        self.distance_function = distance_function\n",
    "        self.n_neighbors = n_neighbors\n",
    "    def predict(self, X_train, X_test, y_train):\n",
    "        distance_matrix = self.distance_function(X_train, X_test)\n",
    "        nearest = np.argsort(distance_matrix, axis=0).T[:, :self.n_neighbors]\n",
    "        predict_proba = np.sum(y_train[nearest], axis=1).astype(float) / self.n_neighbors\n",
    "        return predict_proba"
   ]
  },
  {
   "cell_type": "code",
   "execution_count": 25,
   "metadata": {
    "collapsed": false
   },
   "outputs": [],
   "source": [
    "def match_distance(X, Y):\n",
    "    return np.sum(X[:, :, np.newaxis] != Y.T[np.newaxis, :, :], axis=1)"
   ]
  },
  {
   "cell_type": "markdown",
   "metadata": {},
   "source": [
    "#### Для второй метрики заранее посчитаем все необходимое"
   ]
  },
  {
   "cell_type": "code",
   "execution_count": 26,
   "metadata": {
    "collapsed": false
   },
   "outputs": [],
   "source": [
    "X_train = X_train.as_matrix()\n",
    "X_test = X_test.as_matrix()\n",
    "y_train = y_train.as_matrix()\n",
    "y_test = y_test.as_matrix()"
   ]
  },
  {
   "cell_type": "code",
   "execution_count": 31,
   "metadata": {
    "collapsed": true
   },
   "outputs": [],
   "source": [
    "def count_weights():\n",
    "    weights = np.zeros(X_train.shape)\n",
    "    for column in range(X_train.shape[1]):\n",
    "        uniques, counts = np.unique(X_train[:, column], return_counts=True)\n",
    "        l = X_train.shape[0]\n",
    "        p_2_sorted = (pd.Series((counts * (counts-1)).astype(float) / (l * (l-1)), index=uniques))\n",
    "        p_2_sorted.sort()\n",
    "        for i in range(X_train.shape[0]):\n",
    "            weights[i, column] = np.sum(p_2_sorted[0:np.where(p_2_sorted.index == X_train[i, column])[0][-1]+1])\n",
    "    return weights"
   ]
  },
  {
   "cell_type": "code",
   "execution_count": 32,
   "metadata": {
    "collapsed": false
   },
   "outputs": [],
   "source": [
    "smoothed_weights = count_weights()"
   ]
  },
  {
   "cell_type": "code",
   "execution_count": 33,
   "metadata": {
    "collapsed": true
   },
   "outputs": [],
   "source": [
    "def smoothed_match_distance_row(X, y):\n",
    "    not_equal_component = np.sum(X != y, axis=1)\n",
    "    equal_component = np.sum((X == y) * (smoothed_weights), axis=1)\n",
    "    return not_equal_component + equal_component"
   ]
  },
  {
   "cell_type": "code",
   "execution_count": 34,
   "metadata": {
    "collapsed": true
   },
   "outputs": [],
   "source": [
    "def smoothed_match_distance(X, Y):\n",
    "    dist = np.zeros((X.shape[0], Y.shape[0]))\n",
    "    for i in range(Y.shape[0]):\n",
    "        dist[:, i] = smoothed_match_distance_row(X, Y[i, :])\n",
    "    return dist"
   ]
  },
  {
   "cell_type": "markdown",
   "metadata": {},
   "source": [
    "#### Для третьей тоже все необходимое считаем заранее"
   ]
  },
  {
   "cell_type": "code",
   "execution_count": 36,
   "metadata": {
    "collapsed": true
   },
   "outputs": [],
   "source": [
    "def count_log_weights():\n",
    "    list_logarithms = []\n",
    "    weights = np.zeros(X_train.shape)\n",
    "    for column in range(X_train.shape[1]):\n",
    "        uniques, counts = np.unique(X_train[:, column], return_counts=True)\n",
    "        logarithms = np.log(counts)\n",
    "        logarithms[logarithms == -np.inf] = 0\n",
    "        logarithms = pd.Series(logarithms, index=uniques)\n",
    "        weights[:, column] = logarithms[X_train[:, column]]\n",
    "        list_logarithms.append(logarithms)\n",
    "    return weights, list_logarithms"
   ]
  },
  {
   "cell_type": "code",
   "execution_count": 37,
   "metadata": {
    "collapsed": true
   },
   "outputs": [],
   "source": [
    "log_weights, list_logarithms = count_log_weights()"
   ]
  },
  {
   "cell_type": "code",
   "execution_count": 38,
   "metadata": {
    "collapsed": true
   },
   "outputs": [],
   "source": [
    "def log_match_distance_row(X, y):\n",
    "    not_equal = X != y\n",
    "    dist = np.zeros((X.shape[0]))\n",
    "    for column in range(X.shape[1]):\n",
    "        current_logarithms = list_logarithms[column]\n",
    "        try: # если в тесте окажется несуществующее значение признака\n",
    "            current_log = current_logarithms[y[column]]\n",
    "            dist += not_equal[:, column] * log_weights[:, column] * current_log\n",
    "        except KeyError:\n",
    "            pass\n",
    "    return dist"
   ]
  },
  {
   "cell_type": "code",
   "execution_count": 39,
   "metadata": {
    "collapsed": true
   },
   "outputs": [],
   "source": [
    "def log_match_distance(X, Y):\n",
    "    dist = np.zeros((X.shape[0], Y.shape[0]))\n",
    "    for i in range(Y.shape[0]):\n",
    "        dist[:, i] = log_match_distance_row(X, Y[i, :])\n",
    "    return dist"
   ]
  },
  {
   "cell_type": "markdown",
   "metadata": {},
   "source": [
    "#### Сравним результаты"
   ]
  },
  {
   "cell_type": "code",
   "execution_count": 40,
   "metadata": {
    "collapsed": false
   },
   "outputs": [
    {
     "name": "stdout",
     "output_type": "stream",
     "text": [
      "AUC-ROC на тесте для первой метрики: 0.83088009598\n"
     ]
    }
   ],
   "source": [
    "clf = kNN(match_distance, 10)\n",
    "predict = clf.predict(X_train, X_test, y_train)\n",
    "print 'AUC-ROC на тесте для первой метрики:', roc_auc_score(y_test, predict)"
   ]
  },
  {
   "cell_type": "code",
   "execution_count": 41,
   "metadata": {
    "collapsed": false
   },
   "outputs": [
    {
     "name": "stdout",
     "output_type": "stream",
     "text": [
      "AUC-ROC на тесте для второй метрики: 0.832857727689\n"
     ]
    }
   ],
   "source": [
    "clf = kNN(smoothed_match_distance, 10)\n",
    "predict = clf.predict(X_train, X_test, y_train)\n",
    "print 'AUC-ROC на тесте для второй метрики:', roc_auc_score(y_test, predict)"
   ]
  },
  {
   "cell_type": "code",
   "execution_count": 42,
   "metadata": {
    "collapsed": false
   },
   "outputs": [
    {
     "name": "stdout",
     "output_type": "stream",
     "text": [
      "AUC-ROC на тесте для третьей метрики: 0.817053027738\n"
     ]
    }
   ],
   "source": [
    "clf = kNN(log_match_distance, 10)\n",
    "predict = clf.predict(X_train, X_test, y_train)\n",
    "print 'AUC-ROC на тесте для третьей метрики:', roc_auc_score(y_test, predict)"
   ]
  },
  {
   "cell_type": "markdown",
   "metadata": {},
   "source": [
    "### Вывод: лучшей метрикой оказался сглаженный индикатор совпадения"
   ]
  },
  {
   "cell_type": "markdown",
   "metadata": {},
   "source": [
    "#### 2 (бонус). Подберите лучшее (на тестовой выборке) число соседей $k$ для каждой из функций расстояния. Какое наилучшее качество удалось достичь?"
   ]
  },
  {
   "cell_type": "code",
   "execution_count": null,
   "metadata": {
    "collapsed": true
   },
   "outputs": [],
   "source": []
  },
  {
   "cell_type": "markdown",
   "metadata": {},
   "source": [
    "#### 3. Реализуйте счетчики (http://blogs.technet.com/b/machinelearning/archive/2015/02/17/big-learning-made-easy-with-counts.aspx), которые заменят категориальные признаки на вещественные.\n",
    "\n",
    "А именно, каждый категориальный признак нужно заменить на три: \n",
    "1. Число `counts` объектов в обучающей выборке с таким же значением признака.\n",
    "2. Число `clicks` объектов первого класса ($y = 1$) в обучающей выборке с таким же значением признака.\n",
    "3. Сглаженное отношение двух предыдущих величин: (`clicks` + 1) / (`counts` + 2).\n",
    "\n",
    "Поскольку признаки, содержащие информацию о целевой переменной, могут привести к переобучению, может оказаться полезным сделать *фолдинг*: разбить обучающую выборку на $n$ частей, и для $i$-й части считать `counts` и `clicks` по всем остальным частям. Для тестовой выборки используются счетчики, посчитанный по всей обучающей выборке. Реализуйте и такой вариант. Можно использовать $n = 3$.\n",
    "\n",
    "#### Посчитайте на тесте AUC-ROC метода $k$ ближайших соседей с евклидовой метрикой для выборки, где категориальные признаки заменены на счетчики. Сравните по AUC-ROC два варианта формирования выборки — с фолдингом и без. Не забудьте подобрать наилучшее число соседей $k$."
   ]
  },
  {
   "cell_type": "markdown",
   "metadata": {},
   "source": [
    "#### Без фолдинга"
   ]
  },
  {
   "cell_type": "code",
   "execution_count": 141,
   "metadata": {
    "collapsed": false,
    "scrolled": true
   },
   "outputs": [],
   "source": [
    "data_processed = pd.DataFrame()\n",
    "data_processed['ACTION'] = data['ACTION']\n",
    "\n",
    "for column in X_train.columns:\n",
    "    indices_with_values = X_train[column].value_counts()\n",
    "    counts = indices_with_values[data[column]]\n",
    "    counts = counts.fillna(0)\n",
    "    counts = counts.as_matrix()\n",
    "    data_processed[column+'COUNTS'] = counts\n",
    "    \n",
    "    indices_with_values = X_train[y_train == 1][column].value_counts()\n",
    "    clicks = indices_with_values[data[column]]\n",
    "    clicks = clicks.fillna(0)\n",
    "    clicks = clicks.as_matrix()\n",
    "    data_processed[column+'CLICKS'] = clicks\n",
    "    \n",
    "    data_processed[column+'RATIO'] = (clicks + 1) / (counts + 2)\n",
    "    data_processed = data_processed.fillna(0)\n",
    "    \n",
    "X_train_pro, X_test_pro, y_train_pro, y_test_pro = train_test_split(\n",
    "    data_processed.iloc[:, 1:], data_processed.iloc[:, 0], test_size=0.3, random_state=241)"
   ]
  },
  {
   "cell_type": "code",
   "execution_count": 142,
   "metadata": {
    "collapsed": false
   },
   "outputs": [
    {
     "name": "stdout",
     "output_type": "stream",
     "text": [
      "Наилучшее качество: 0.794899311419 Достигается при числе соседей k = 16\n"
     ]
    }
   ],
   "source": [
    "k_values = [1, 2, 4, 8, 16, 32]\n",
    "best_auc = 0\n",
    "best_k = 0\n",
    "for k in k_values:\n",
    "    clf = KNeighborsClassifier(n_neighbors=k)\n",
    "    clf.fit(X_train_pro, y_train_pro)\n",
    "    predict = clf.predict_proba(X_test_pro)\n",
    "    auc = roc_auc_score(y_test_pro.astype(float), predict[:, 1])\n",
    "    if auc > best_auc:\n",
    "        best_auc = auc\n",
    "        best_k = k\n",
    "print \"Наилучшее качество:\", best_auc, \"Достигается при числе соседей k =\", best_k"
   ]
  },
  {
   "cell_type": "markdown",
   "metadata": {},
   "source": [
    "#### С фолдингом"
   ]
  },
  {
   "cell_type": "code",
   "execution_count": 164,
   "metadata": {
    "collapsed": false,
    "scrolled": true
   },
   "outputs": [],
   "source": [
    "n_folds = 50\n",
    "data_processed_fold = pd.DataFrame()\n",
    "data_processed_fold['ACTION'] = data['ACTION']\n",
    "\n",
    "for column in X_train.columns:\n",
    "    data_processed_fold[column+'COUNTS'] = np.zeros(data[column].shape)\n",
    "    data_processed_fold[column+'CLICKS'] = np.zeros(data[column].shape)\n",
    "    data_processed_fold[column+'RATIO'] = np.zeros(data[column].shape)\n",
    "    \n",
    "kf = KFold(X_train.shape[0], n_folds=n_folds)\n",
    "for train_index, test_index in kf:\n",
    "    X_train_temp, X_test_temp, y_train_temp, y_test_temp = \\\n",
    "        X_train.iloc[train_index], X_train.iloc[test_index], y_train.iloc[train_index], y_train.iloc[test_index]\n",
    "        \n",
    "    for column in X_train.columns:\n",
    "        indices_with_values = X_train_temp[column].value_counts()\n",
    "        counts = indices_with_values[X_test_temp[column]]\n",
    "        counts = counts.fillna(0)\n",
    "        counts = counts.as_matrix()\n",
    "        data_processed_fold.loc[X_test_temp.index, [column+'COUNTS']] = counts\n",
    "        \n",
    "        indices_with_values = X_train_temp[y_train_temp == 1][column].value_counts()\n",
    "        clicks = indices_with_values[X_test_temp[column]]\n",
    "        clicks = clicks.fillna(0)\n",
    "        clicks = clicks.as_matrix()\n",
    "        data_processed_fold.loc[X_test_temp.index, [column+'CLICKS']] = clicks\n",
    "        \n",
    "for column in X_train.columns:\n",
    "    indices_with_values = X_train[column].value_counts()\n",
    "    counts = indices_with_values[X_test[column]]\n",
    "    counts = counts.fillna(0)\n",
    "    counts = counts.as_matrix()\n",
    "    data_processed_fold.loc[X_test.index, [column+'COUNTS']] = counts\n",
    "    \n",
    "    indices_with_values = X_train[y_train == 1][column].value_counts()\n",
    "    clicks = indices_with_values[X_test[column]]\n",
    "    clicks = clicks.fillna(0)\n",
    "    clicks = clicks.as_matrix()\n",
    "    data_processed_fold.loc[X_test.index, [column+'CLICKS']] = clicks\n",
    "    \n",
    "for column in X_train.columns:\n",
    "    data_processed_fold[column+'RATIO'] = (\n",
    "        data_processed_fold[column+'CLICKS'] + 1) / (data_processed_fold[column+'COUNTS'] + 2)\n",
    "    data_processed_fold = data_processed_fold.fillna(0)\n",
    "    \n",
    "X_train_pro_fold, X_test_pro_fold, y_train_pro_fold, y_test_pro_fold = train_test_split(\n",
    "    data_processed_fold.iloc[:, 1:], data_processed_fold.iloc[:, 0], test_size=0.3, random_state=241)"
   ]
  },
  {
   "cell_type": "code",
   "execution_count": 166,
   "metadata": {
    "collapsed": false
   },
   "outputs": [
    {
     "name": "stdout",
     "output_type": "stream",
     "text": [
      "Наилучшее качество: 0.768569466639 Достигается при числе соседей k = 16\n"
     ]
    }
   ],
   "source": [
    "k_values = [1, 2, 4, 8, 16, 32, 64]\n",
    "best_auc = 0\n",
    "best_k = 0\n",
    "for k in k_values:\n",
    "    clf = KNeighborsClassifier(n_neighbors=k)\n",
    "    clf.fit(X_train_pro_fold, y_train_pro_fold)\n",
    "    predict = clf.predict_proba(X_test_pro_fold)\n",
    "    auc = roc_auc_score(y_test_pro_fold.astype(float), predict[:, 1])\n",
    "    if auc > best_auc:\n",
    "        best_auc = auc\n",
    "        best_k = k\n",
    "print \"Наилучшее качество:\", best_auc, \"Достигается при числе соседей k =\", best_k"
   ]
  },
  {
   "cell_type": "markdown",
   "metadata": {},
   "source": [
    "#### 4. Добавьте в исходную выборку парные признаки — то есть для каждой пары $f_i$, $f_j$ исходных категориальных признаков добавьте новый категориальный признак $f_{ij}$, значение которого является конкатенацией значений $f_i$ и $f_j$. Посчитайте счетчики для этой выборки, найдите качество метода $k$ ближайших соседей с наилучшим $k$ (с фолдингом и без)."
   ]
  },
  {
   "cell_type": "code",
   "execution_count": 7,
   "metadata": {
    "collapsed": true
   },
   "outputs": [],
   "source": [
    "data_with_pairs = data.copy()\n",
    "for i in range(1, data.shape[1]):\n",
    "    for j in range(i+1, data.shape[1]):\n",
    "        column1 = data.columns[i]\n",
    "        column2 = data.columns[j]\n",
    "        data_with_pairs[column1 + '+' + column2] = data[column1] * 10**6 + data[column2]"
   ]
  },
  {
   "cell_type": "code",
   "execution_count": 8,
   "metadata": {
    "collapsed": false
   },
   "outputs": [
    {
     "data": {
      "text/html": [
       "<div style=\"max-height:1000px;max-width:1500px;overflow:auto;\">\n",
       "<table border=\"1\" class=\"dataframe\">\n",
       "  <thead>\n",
       "    <tr style=\"text-align: right;\">\n",
       "      <th></th>\n",
       "      <th>ACTION</th>\n",
       "      <th>RESOURCE</th>\n",
       "      <th>MGR_ID</th>\n",
       "      <th>ROLE_ROLLUP_1</th>\n",
       "      <th>ROLE_ROLLUP_2</th>\n",
       "      <th>ROLE_DEPTNAME</th>\n",
       "      <th>ROLE_TITLE</th>\n",
       "      <th>ROLE_FAMILY_DESC</th>\n",
       "      <th>ROLE_FAMILY</th>\n",
       "      <th>ROLE_CODE</th>\n",
       "      <th>...</th>\n",
       "      <th>ROLE_DEPTNAME+ROLE_TITLE</th>\n",
       "      <th>ROLE_DEPTNAME+ROLE_FAMILY_DESC</th>\n",
       "      <th>ROLE_DEPTNAME+ROLE_FAMILY</th>\n",
       "      <th>ROLE_DEPTNAME+ROLE_CODE</th>\n",
       "      <th>ROLE_TITLE+ROLE_FAMILY_DESC</th>\n",
       "      <th>ROLE_TITLE+ROLE_FAMILY</th>\n",
       "      <th>ROLE_TITLE+ROLE_CODE</th>\n",
       "      <th>ROLE_FAMILY_DESC+ROLE_FAMILY</th>\n",
       "      <th>ROLE_FAMILY_DESC+ROLE_CODE</th>\n",
       "      <th>ROLE_FAMILY+ROLE_CODE</th>\n",
       "    </tr>\n",
       "  </thead>\n",
       "  <tbody>\n",
       "    <tr>\n",
       "      <th>0</th>\n",
       "      <td> 1</td>\n",
       "      <td> 39353</td>\n",
       "      <td> 85475</td>\n",
       "      <td> 117961</td>\n",
       "      <td> 118300</td>\n",
       "      <td> 123472</td>\n",
       "      <td> 117905</td>\n",
       "      <td> 117906</td>\n",
       "      <td> 290919</td>\n",
       "      <td> 117908</td>\n",
       "      <td>...</td>\n",
       "      <td> 123472117905</td>\n",
       "      <td> 123472117906</td>\n",
       "      <td> 123472290919</td>\n",
       "      <td> 123472117908</td>\n",
       "      <td> 117905117906</td>\n",
       "      <td> 117905290919</td>\n",
       "      <td> 117905117908</td>\n",
       "      <td> 117906290919</td>\n",
       "      <td> 117906117908</td>\n",
       "      <td> 290919117908</td>\n",
       "    </tr>\n",
       "    <tr>\n",
       "      <th>1</th>\n",
       "      <td> 1</td>\n",
       "      <td> 17183</td>\n",
       "      <td>  1540</td>\n",
       "      <td> 117961</td>\n",
       "      <td> 118343</td>\n",
       "      <td> 123125</td>\n",
       "      <td> 118536</td>\n",
       "      <td> 118536</td>\n",
       "      <td> 308574</td>\n",
       "      <td> 118539</td>\n",
       "      <td>...</td>\n",
       "      <td> 123125118536</td>\n",
       "      <td> 123125118536</td>\n",
       "      <td> 123125308574</td>\n",
       "      <td> 123125118539</td>\n",
       "      <td> 118536118536</td>\n",
       "      <td> 118536308574</td>\n",
       "      <td> 118536118539</td>\n",
       "      <td> 118536308574</td>\n",
       "      <td> 118536118539</td>\n",
       "      <td> 308574118539</td>\n",
       "    </tr>\n",
       "    <tr>\n",
       "      <th>2</th>\n",
       "      <td> 1</td>\n",
       "      <td> 36724</td>\n",
       "      <td> 14457</td>\n",
       "      <td> 118219</td>\n",
       "      <td> 118220</td>\n",
       "      <td> 117884</td>\n",
       "      <td> 117879</td>\n",
       "      <td> 267952</td>\n",
       "      <td>  19721</td>\n",
       "      <td> 117880</td>\n",
       "      <td>...</td>\n",
       "      <td> 117884117879</td>\n",
       "      <td> 117884267952</td>\n",
       "      <td> 117884019721</td>\n",
       "      <td> 117884117880</td>\n",
       "      <td> 117879267952</td>\n",
       "      <td> 117879019721</td>\n",
       "      <td> 117879117880</td>\n",
       "      <td> 267952019721</td>\n",
       "      <td> 267952117880</td>\n",
       "      <td>  19721117880</td>\n",
       "    </tr>\n",
       "    <tr>\n",
       "      <th>3</th>\n",
       "      <td> 1</td>\n",
       "      <td> 36135</td>\n",
       "      <td>  5396</td>\n",
       "      <td> 117961</td>\n",
       "      <td> 118343</td>\n",
       "      <td> 119993</td>\n",
       "      <td> 118321</td>\n",
       "      <td> 240983</td>\n",
       "      <td> 290919</td>\n",
       "      <td> 118322</td>\n",
       "      <td>...</td>\n",
       "      <td> 119993118321</td>\n",
       "      <td> 119993240983</td>\n",
       "      <td> 119993290919</td>\n",
       "      <td> 119993118322</td>\n",
       "      <td> 118321240983</td>\n",
       "      <td> 118321290919</td>\n",
       "      <td> 118321118322</td>\n",
       "      <td> 240983290919</td>\n",
       "      <td> 240983118322</td>\n",
       "      <td> 290919118322</td>\n",
       "    </tr>\n",
       "    <tr>\n",
       "      <th>4</th>\n",
       "      <td> 1</td>\n",
       "      <td> 42680</td>\n",
       "      <td>  5905</td>\n",
       "      <td> 117929</td>\n",
       "      <td> 117930</td>\n",
       "      <td> 119569</td>\n",
       "      <td> 119323</td>\n",
       "      <td> 123932</td>\n",
       "      <td>  19793</td>\n",
       "      <td> 119325</td>\n",
       "      <td>...</td>\n",
       "      <td> 119569119323</td>\n",
       "      <td> 119569123932</td>\n",
       "      <td> 119569019793</td>\n",
       "      <td> 119569119325</td>\n",
       "      <td> 119323123932</td>\n",
       "      <td> 119323019793</td>\n",
       "      <td> 119323119325</td>\n",
       "      <td> 123932019793</td>\n",
       "      <td> 123932119325</td>\n",
       "      <td>  19793119325</td>\n",
       "    </tr>\n",
       "  </tbody>\n",
       "</table>\n",
       "<p>5 rows × 46 columns</p>\n",
       "</div>"
      ],
      "text/plain": [
       "   ACTION  RESOURCE  MGR_ID  ROLE_ROLLUP_1  ROLE_ROLLUP_2  ROLE_DEPTNAME  \\\n",
       "0       1     39353   85475         117961         118300         123472   \n",
       "1       1     17183    1540         117961         118343         123125   \n",
       "2       1     36724   14457         118219         118220         117884   \n",
       "3       1     36135    5396         117961         118343         119993   \n",
       "4       1     42680    5905         117929         117930         119569   \n",
       "\n",
       "   ROLE_TITLE  ROLE_FAMILY_DESC  ROLE_FAMILY  ROLE_CODE  \\\n",
       "0      117905            117906       290919     117908   \n",
       "1      118536            118536       308574     118539   \n",
       "2      117879            267952        19721     117880   \n",
       "3      118321            240983       290919     118322   \n",
       "4      119323            123932        19793     119325   \n",
       "\n",
       "           ...            ROLE_DEPTNAME+ROLE_TITLE  \\\n",
       "0          ...                        123472117905   \n",
       "1          ...                        123125118536   \n",
       "2          ...                        117884117879   \n",
       "3          ...                        119993118321   \n",
       "4          ...                        119569119323   \n",
       "\n",
       "   ROLE_DEPTNAME+ROLE_FAMILY_DESC  ROLE_DEPTNAME+ROLE_FAMILY  \\\n",
       "0                    123472117906               123472290919   \n",
       "1                    123125118536               123125308574   \n",
       "2                    117884267952               117884019721   \n",
       "3                    119993240983               119993290919   \n",
       "4                    119569123932               119569019793   \n",
       "\n",
       "   ROLE_DEPTNAME+ROLE_CODE  ROLE_TITLE+ROLE_FAMILY_DESC  \\\n",
       "0             123472117908                 117905117906   \n",
       "1             123125118539                 118536118536   \n",
       "2             117884117880                 117879267952   \n",
       "3             119993118322                 118321240983   \n",
       "4             119569119325                 119323123932   \n",
       "\n",
       "   ROLE_TITLE+ROLE_FAMILY  ROLE_TITLE+ROLE_CODE  ROLE_FAMILY_DESC+ROLE_FAMILY  \\\n",
       "0            117905290919          117905117908                  117906290919   \n",
       "1            118536308574          118536118539                  118536308574   \n",
       "2            117879019721          117879117880                  267952019721   \n",
       "3            118321290919          118321118322                  240983290919   \n",
       "4            119323019793          119323119325                  123932019793   \n",
       "\n",
       "   ROLE_FAMILY_DESC+ROLE_CODE  ROLE_FAMILY+ROLE_CODE  \n",
       "0                117906117908           290919117908  \n",
       "1                118536118539           308574118539  \n",
       "2                267952117880            19721117880  \n",
       "3                240983118322           290919118322  \n",
       "4                123932119325            19793119325  \n",
       "\n",
       "[5 rows x 46 columns]"
      ]
     },
     "execution_count": 8,
     "metadata": {},
     "output_type": "execute_result"
    }
   ],
   "source": [
    "data_with_pairs.head()"
   ]
  },
  {
   "cell_type": "markdown",
   "metadata": {},
   "source": [
    "#### Без фолдинга"
   ]
  },
  {
   "cell_type": "code",
   "execution_count": 9,
   "metadata": {
    "collapsed": true
   },
   "outputs": [],
   "source": [
    "from sklearn.cross_validation import train_test_split\n",
    "X_train, X_test, y_train, y_test = train_test_split(data_with_pairs.iloc[:, 1:], data_with_pairs.iloc[:, 0],\n",
    "                                                    test_size=0.3, random_state=241)"
   ]
  },
  {
   "cell_type": "code",
   "execution_count": 10,
   "metadata": {
    "collapsed": true
   },
   "outputs": [],
   "source": [
    "data_processed = pd.DataFrame()\n",
    "data_processed['ACTION'] = data_with_pairs['ACTION']\n",
    "\n",
    "for column in X_train.columns:\n",
    "    indices_with_values = X_train[column].value_counts()\n",
    "    counts = indices_with_values[data_with_pairs[column]]\n",
    "    counts = counts.fillna(0)\n",
    "    counts = counts.as_matrix()\n",
    "    data_processed[column+'COUNTS'] = counts\n",
    "    \n",
    "    indices_with_values = X_train[y_train == 1][column].value_counts()\n",
    "    clicks = indices_with_values[data_with_pairs[column]]\n",
    "    clicks = clicks.fillna(0)\n",
    "    clicks = clicks.as_matrix()\n",
    "    data_processed[column+'CLICKS'] = clicks\n",
    "    \n",
    "    data_processed[column+'RATIO'] = (clicks + 1) / (counts + 2)\n",
    "    data_processed = data_processed.fillna(0)\n",
    "    \n",
    "X_train_pro, X_test_pro, y_train_pro, y_test_pro = train_test_split(\n",
    "    data_processed.iloc[:, 1:], data_processed.iloc[:, 0], test_size=0.3, random_state=241)"
   ]
  },
  {
   "cell_type": "code",
   "execution_count": 11,
   "metadata": {
    "collapsed": false
   },
   "outputs": [
    {
     "name": "stdout",
     "output_type": "stream",
     "text": [
      "Наилучшее качество: 0.801859076241 Достигается при числе соседей k = 8\n"
     ]
    }
   ],
   "source": [
    "k_values = [1, 2, 4, 8, 16, 32]\n",
    "best_auc = 0\n",
    "best_k = 0\n",
    "for k in k_values:\n",
    "    clf = KNeighborsClassifier(n_neighbors=k)\n",
    "    clf.fit(X_train_pro, y_train_pro)\n",
    "    predict = clf.predict_proba(X_test_pro)\n",
    "    auc = roc_auc_score(y_test_pro.astype(float), predict[:, 1])\n",
    "    if auc > best_auc:\n",
    "        best_auc = auc\n",
    "        best_k = k\n",
    "print \"Наилучшее качество:\", best_auc, \"Достигается при числе соседей k =\", best_k"
   ]
  },
  {
   "cell_type": "markdown",
   "metadata": {},
   "source": [
    "#### С фолдингом"
   ]
  },
  {
   "cell_type": "code",
   "execution_count": 12,
   "metadata": {
    "collapsed": true
   },
   "outputs": [],
   "source": [
    "n_folds = 50\n",
    "data_processed_fold = pd.DataFrame()\n",
    "data_processed_fold['ACTION'] = data_with_pairs['ACTION']\n",
    "\n",
    "for column in X_train.columns:\n",
    "    data_processed_fold[column+'COUNTS'] = np.zeros(data_with_pairs[column].shape)\n",
    "    data_processed_fold[column+'CLICKS'] = np.zeros(data_with_pairs[column].shape)\n",
    "    data_processed_fold[column+'RATIO'] = np.zeros(data_with_pairs[column].shape)\n",
    "    \n",
    "kf = KFold(X_train.shape[0], n_folds=n_folds)\n",
    "for train_index, test_index in kf:\n",
    "    X_train_temp, X_test_temp, y_train_temp, y_test_temp = \\\n",
    "        X_train.iloc[train_index], X_train.iloc[test_index], y_train.iloc[train_index], y_train.iloc[test_index]\n",
    "        \n",
    "    for column in X_train.columns:\n",
    "        indices_with_values = X_train_temp[column].value_counts()\n",
    "        counts = indices_with_values[X_test_temp[column]]\n",
    "        counts = counts.fillna(0)\n",
    "        counts = counts.as_matrix()\n",
    "        data_processed_fold.loc[X_test_temp.index, [column+'COUNTS']] = counts\n",
    "        \n",
    "        indices_with_values = X_train_temp[y_train_temp == 1][column].value_counts()\n",
    "        clicks = indices_with_values[X_test_temp[column]]\n",
    "        clicks = clicks.fillna(0)\n",
    "        clicks = clicks.as_matrix()\n",
    "        data_processed_fold.loc[X_test_temp.index, [column+'CLICKS']] = clicks\n",
    "        \n",
    "for column in X_train.columns:\n",
    "    indices_with_values = X_train[column].value_counts()\n",
    "    counts = indices_with_values[X_test[column]]\n",
    "    counts = counts.fillna(0)\n",
    "    counts = counts.as_matrix()\n",
    "    data_processed_fold.loc[X_test.index, [column+'COUNTS']] = counts\n",
    "    \n",
    "    indices_with_values = X_train[y_train == 1][column].value_counts()\n",
    "    clicks = indices_with_values[X_test[column]]\n",
    "    clicks = clicks.fillna(0)\n",
    "    clicks = clicks.as_matrix()\n",
    "    data_processed_fold.loc[X_test.index, [column+'CLICKS']] = clicks\n",
    "    \n",
    "for column in X_train.columns:\n",
    "    data_processed_fold[column+'RATIO'] = (\n",
    "        data_processed_fold[column+'CLICKS'] + 1) / (data_processed_fold[column+'COUNTS'] + 2)\n",
    "    data_processed_fold = data_processed_fold.fillna(0)\n",
    "    \n",
    "X_train_pro_fold, X_test_pro_fold, y_train_pro_fold, y_test_pro_fold = train_test_split(\n",
    "    data_processed_fold.iloc[:, 1:], data_processed_fold.iloc[:, 0], test_size=0.3, random_state=241)"
   ]
  },
  {
   "cell_type": "code",
   "execution_count": 13,
   "metadata": {
    "collapsed": false,
    "scrolled": true
   },
   "outputs": [
    {
     "name": "stdout",
     "output_type": "stream",
     "text": [
      "Наилучшее качество: 0.778147084258 Достигается при числе соседей k = 16\n"
     ]
    }
   ],
   "source": [
    "k_values = [1, 2, 4, 8, 16, 32, 64]\n",
    "best_auc = 0\n",
    "best_k = 0\n",
    "for k in k_values:\n",
    "    clf = KNeighborsClassifier(n_neighbors=k)\n",
    "    clf.fit(X_train_pro_fold, y_train_pro_fold)\n",
    "    predict = clf.predict_proba(X_test_pro_fold)\n",
    "    auc = roc_auc_score(y_test_pro_fold.astype(float), predict[:, 1])\n",
    "    if auc > best_auc:\n",
    "        best_auc = auc\n",
    "        best_k = k\n",
    "print \"Наилучшее качество:\", best_auc, \"Достигается при числе соседей k =\", best_k"
   ]
  },
  {
   "cell_type": "markdown",
   "metadata": {},
   "source": [
    "### Вывод: добавление пар -- неплохое средство поднять немного качество"
   ]
  },
  {
   "cell_type": "markdown",
   "metadata": {},
   "source": [
    "## Часть 2: Решающие деревья и леса"
   ]
  },
  {
   "cell_type": "markdown",
   "metadata": {},
   "source": [
    "#### 1. Возьмите из предыдущей части выборку с парными признаками, преобразованную с помощью счетчиков без фолдинга. Настройте решающее дерево, подобрав оптимальные значения параметров `max_depth` и `min_samples_leaf`. Какой наилучший AUC-ROC на контроле удалось получить?"
   ]
  },
  {
   "cell_type": "code",
   "execution_count": 22,
   "metadata": {
    "collapsed": true
   },
   "outputs": [],
   "source": [
    "?GridSearchCV"
   ]
  },
  {
   "cell_type": "code",
   "execution_count": 25,
   "metadata": {
    "collapsed": false
   },
   "outputs": [],
   "source": [
    "from sklearn.tree import DecisionTreeClassifier\n",
    "from sklearn.grid_search import GridSearchCV\n",
    "from sklearn.metrics import roc_auc_score\n",
    "clf = DecisionTreeClassifier()\n",
    "params = {'max_depth': [2, 4, 8, 16, 32], 'min_samples_leaf': [1, 2, 4, 8, 16, 32, 64]}\n",
    "grid = GridSearchCV(clf, params, score_func=roc_auc_score)"
   ]
  },
  {
   "cell_type": "code",
   "execution_count": 30,
   "metadata": {
    "collapsed": true
   },
   "outputs": [],
   "source": [
    "from sklearn.cross_validation import train_test_split\n",
    "X_train, X_test, y_train, y_test = train_test_split(data_processed.iloc[:, 1:], data_processed.iloc[:, 0],\n",
    "                                                    test_size=0.3, random_state=241)"
   ]
  },
  {
   "cell_type": "code",
   "execution_count": 31,
   "metadata": {
    "collapsed": false
   },
   "outputs": [
    {
     "name": "stdout",
     "output_type": "stream",
     "text": [
      "Лучшая совокупность параметров: {'max_depth': 8, 'min_samples_leaf': 4}\n",
      "Лучший AUC-ROC: 0.999040892842\n",
      "AUC-ROC на тесте с этими параметрами: 0.572223048894\n"
     ]
    }
   ],
   "source": [
    "grid.fit(X_train, y_train)\n",
    "print 'Лучшая совокупность параметров:', grid.best_params_\n",
    "print 'Лучший AUC-ROC:', grid.best_score_\n",
    "print 'AUC-ROC на тесте с этими параметрами:', roc_auc_score(y_test, grid.predict_proba(X_test)[:, 1])"
   ]
  },
  {
   "cell_type": "markdown",
   "metadata": {},
   "source": [
    "#### Совсем не выглядит, как переобучение"
   ]
  },
  {
   "cell_type": "markdown",
   "metadata": {},
   "source": [
    "#### А посмотрим на данные с фолдингом"
   ]
  },
  {
   "cell_type": "code",
   "execution_count": 32,
   "metadata": {
    "collapsed": true
   },
   "outputs": [],
   "source": [
    "from sklearn.cross_validation import train_test_split\n",
    "X_train, X_test, y_train, y_test = train_test_split(data_processed_fold.iloc[:, 1:], data_processed_fold.iloc[:, 0],\n",
    "                                                    test_size=0.3, random_state=241)"
   ]
  },
  {
   "cell_type": "code",
   "execution_count": 33,
   "metadata": {
    "collapsed": false
   },
   "outputs": [
    {
     "name": "stdout",
     "output_type": "stream",
     "text": [
      "Лучшая совокупность параметров: {'max_depth': 16, 'min_samples_leaf': 32}\n",
      "Лучший AUC-ROC: 0.950911151801\n",
      "AUC-ROC на тесте с этими параметрами: 0.782742478907\n"
     ]
    }
   ],
   "source": [
    "grid.fit(X_train, y_train)\n",
    "print 'Лучшая совокупность параметров:', grid.best_params_\n",
    "print 'Лучший AUC-ROC:', grid.best_score_\n",
    "print 'AUC-ROC на тесте с этими параметрами:', roc_auc_score(y_test, grid.predict_proba(X_test)[:, 1])"
   ]
  },
  {
   "cell_type": "markdown",
   "metadata": {},
   "source": [
    "#### 2. Настройте случайный лес, подобрав оптимальное число деревьев `n_estimators`. Какое качество на тестовой выборке он дает?"
   ]
  },
  {
   "cell_type": "code",
   "execution_count": 34,
   "metadata": {
    "collapsed": true
   },
   "outputs": [],
   "source": [
    "from sklearn.ensemble import RandomForestClassifier\n",
    "from sklearn.grid_search import GridSearchCV\n",
    "from sklearn.metrics import roc_auc_score\n",
    "clf = RandomForestClassifier()\n",
    "params = {'n_estimators': [1, 2, 4, 8, 16, 32, 64]}\n",
    "grid = GridSearchCV(clf, params, score_func=roc_auc_score)"
   ]
  },
  {
   "cell_type": "code",
   "execution_count": 35,
   "metadata": {
    "collapsed": true
   },
   "outputs": [],
   "source": [
    "from sklearn.cross_validation import train_test_split\n",
    "X_train, X_test, y_train, y_test = train_test_split(data_processed.iloc[:, 1:], data_processed.iloc[:, 0],\n",
    "                                                    test_size=0.3, random_state=241)"
   ]
  },
  {
   "cell_type": "code",
   "execution_count": 38,
   "metadata": {
    "collapsed": false
   },
   "outputs": [
    {
     "name": "stdout",
     "output_type": "stream",
     "text": [
      "Время: 14.0 секунд\n",
      "Лучшая совокупность параметров: {'n_estimators': 32}\n",
      "Лучший AUC-ROC: 0.999215275961\n",
      "AUC-ROC на тесте с этими параметрами: 0.636883761369\n"
     ]
    }
   ],
   "source": [
    "grid.fit(X_train, y_train)\n",
    "print 'Лучшая совокупность параметров:', grid.best_params_\n",
    "print 'Лучший AUC-ROC:', grid.best_score_\n",
    "print 'AUC-ROC на тесте с этими параметрами:', roc_auc_score(y_test, grid.predict_proba(X_test)[:, 1])"
   ]
  },
  {
   "cell_type": "markdown",
   "metadata": {},
   "source": [
    "#### 3. Возьмите выборку с парными признаками, для которой счетчики посчитаны с фолдингом. Обучите на ней случайный лес, подобрав число деревьев. Какое качество на тестовой выборке он дает? Чем вы можете объяснить изменение результата по сравнению с предыдущим пунктом?"
   ]
  },
  {
   "cell_type": "code",
   "execution_count": 39,
   "metadata": {
    "collapsed": true
   },
   "outputs": [],
   "source": [
    "from sklearn.cross_validation import train_test_split\n",
    "X_train, X_test, y_train, y_test = train_test_split(data_processed_fold.iloc[:, 1:], data_processed_fold.iloc[:, 0],\n",
    "                                                    test_size=0.3, random_state=241)"
   ]
  },
  {
   "cell_type": "code",
   "execution_count": 40,
   "metadata": {
    "collapsed": false
   },
   "outputs": [
    {
     "name": "stdout",
     "output_type": "stream",
     "text": [
      "Лучшая совокупность параметров: {'n_estimators': 32}\n",
      "Лучший AUC-ROC: 0.962769203941\n",
      "AUC-ROC на тесте с этими параметрами: 0.826106248127\n"
     ]
    }
   ],
   "source": [
    "grid.fit(X_train, y_train)\n",
    "print 'Лучшая совокупность параметров:', grid.best_params_\n",
    "print 'Лучший AUC-ROC:', grid.best_score_\n",
    "print 'AUC-ROC на тесте с этими параметрами:', roc_auc_score(y_test, grid.predict_proba(X_test)[:, 1])"
   ]
  },
  {
   "cell_type": "markdown",
   "metadata": {},
   "source": [
    "### Вывод: используя счетчики, необходимо использовать фолдинг, так как можно знатно переобучиться. Объяеняется это тем, что в счетчиках содержится информация об ответах."
   ]
  },
  {
   "cell_type": "code",
   "execution_count": null,
   "metadata": {
    "collapsed": true
   },
   "outputs": [],
   "source": []
  }
 ],
 "metadata": {
  "kernelspec": {
   "display_name": "Python 2",
   "language": "python",
   "name": "python2"
  },
  "language_info": {
   "codemirror_mode": {
    "name": "ipython",
    "version": 2
   },
   "file_extension": ".py",
   "mimetype": "text/x-python",
   "name": "python",
   "nbconvert_exporter": "python",
   "pygments_lexer": "ipython2",
   "version": "2.7.9"
  }
 },
 "nbformat": 4,
 "nbformat_minor": 0
}
